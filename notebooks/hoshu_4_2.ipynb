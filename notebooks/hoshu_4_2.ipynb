{
  "cells": [
    {
      "cell_type": "markdown",
      "metadata": {
        "id": "view-in-github",
        "colab_type": "text"
      },
      "source": [
        "<a href=\"https://colab.research.google.com/github/maskot1977/tmd2023py/blob/main/notebooks/hoshu_4_2.ipynb\" target=\"_parent\"><img src=\"https://colab.research.google.com/assets/colab-badge.svg\" alt=\"Open In Colab\"/></a>"
      ]
    },
    {
      "cell_type": "markdown",
      "metadata": {
        "id": "TmV3MqOKn5V0"
      },
      "source": [
        "# プログラミング入門第7回・第8回の補習（その２）\n",
        "\n",
        "小寺正明　東京医科歯科大学 統合教育機構 客員准教授, （株）Preferred Networks 研究員\n",
        "\n",
        "# タイムスケジュール\n",
        "\n",
        "- 18時～19時30分 実習タイム（実習タイム中も随時質問OKです）\n",
        "- 19時40分～ 質問タイム\n",
        "\n",
        "# 実施日程・講師\n",
        "\n",
        "- 6/10（第２回の内容）, 6/17（第３・４回の内容） - 長谷武志 先生\n",
        "- 6/24（第５・６回の内容）, 7/1（第７・８回の内容） - 小寺\n",
        "- 7/8（第９・１０回の内容）, 7/15（総合演習） - 石田智 先生\n",
        "\n",
        "# 本日の内容\n",
        "\n",
        "- 下川先生のプログラミング入門の第７・８回の資料から抜粋し一部改変して作成しております。\n",
        "\n",
        "\n",
        "# 乱数"
      ]
    },
    {
      "cell_type": "code",
      "execution_count": null,
      "metadata": {
        "id": "DWWlsiiktGge"
      },
      "outputs": [],
      "source": [
        "import numpy as np"
      ]
    },
    {
      "cell_type": "code",
      "execution_count": null,
      "metadata": {
        "id": "Egfxj2rD0m2z"
      },
      "outputs": [],
      "source": [
        "np.random.rand()"
      ]
    },
    {
      "cell_type": "code",
      "execution_count": null,
      "metadata": {
        "id": "uo0zhO0o0oPx"
      },
      "outputs": [],
      "source": [
        "np.random.rand(4)"
      ]
    },
    {
      "cell_type": "code",
      "execution_count": null,
      "metadata": {
        "id": "r-6PxSEb0rCG"
      },
      "outputs": [],
      "source": [
        "np.random.rand(3, 2)"
      ]
    },
    {
      "cell_type": "code",
      "execution_count": null,
      "metadata": {
        "id": "yzdvkkQy3DIu"
      },
      "outputs": [],
      "source": [
        "x = np.random.rand(10000)"
      ]
    },
    {
      "cell_type": "code",
      "execution_count": null,
      "metadata": {
        "id": "_trI85WE3Bnb"
      },
      "outputs": [],
      "source": [
        "import matplotlib.pyplot as plt\n",
        "\n",
        "plt.hist(x, bins=50)\n",
        "plt.show()"
      ]
    },
    {
      "cell_type": "markdown",
      "metadata": {
        "id": "alMeoCWz013M"
      },
      "source": [
        "# 区間 [a, b) の一様乱数"
      ]
    },
    {
      "cell_type": "code",
      "execution_count": null,
      "metadata": {
        "id": "QdSY8z-O00qH"
      },
      "outputs": [],
      "source": [
        "a = 1\n",
        "b = 4\n",
        "\n",
        "(b - a) * np.random.rand() + a"
      ]
    },
    {
      "cell_type": "code",
      "execution_count": null,
      "metadata": {
        "id": "jRjw51CD0t1S"
      },
      "outputs": [],
      "source": [
        "(b - a) * np.random.rand(3, 3) + a"
      ]
    },
    {
      "cell_type": "code",
      "execution_count": null,
      "metadata": {
        "id": "hYhTE3K423wv"
      },
      "outputs": [],
      "source": [
        "x = (b - a) * np.random.rand(10000) + a"
      ]
    },
    {
      "cell_type": "code",
      "execution_count": null,
      "metadata": {
        "id": "bDnrmpRk22V0"
      },
      "outputs": [],
      "source": [
        "import matplotlib.pyplot as plt\n",
        "\n",
        "plt.hist(x, bins=50)\n",
        "plt.show()"
      ]
    },
    {
      "cell_type": "markdown",
      "metadata": {
        "id": "h8KhB-TP1Ug4"
      },
      "source": [
        "# 整数型の一様乱数"
      ]
    },
    {
      "cell_type": "code",
      "execution_count": null,
      "metadata": {
        "id": "I0VepavG1EVR"
      },
      "outputs": [],
      "source": [
        "np.random.randint(5)"
      ]
    },
    {
      "cell_type": "code",
      "execution_count": null,
      "metadata": {
        "id": "_qBzU-Ej1alC"
      },
      "outputs": [],
      "source": [
        "np.random.randint(10, 20)"
      ]
    },
    {
      "cell_type": "code",
      "execution_count": null,
      "metadata": {
        "id": "s5p0B_Zl1tlA"
      },
      "outputs": [],
      "source": [
        "np.random.randint(5, size=(2, 2))"
      ]
    },
    {
      "cell_type": "code",
      "execution_count": null,
      "metadata": {
        "id": "oRkyt3HV2r2Y"
      },
      "outputs": [],
      "source": [
        "x = np.random.randint(10, size=(10000))"
      ]
    },
    {
      "cell_type": "code",
      "execution_count": null,
      "metadata": {
        "id": "UrB0Iu-O2msR"
      },
      "outputs": [],
      "source": [
        "import matplotlib.pyplot as plt\n",
        "\n",
        "plt.hist(x, bins=50)\n",
        "plt.show()"
      ]
    },
    {
      "cell_type": "markdown",
      "metadata": {
        "id": "ryfJ5X2612cu"
      },
      "source": [
        "# 標準正規分布に従う乱数"
      ]
    },
    {
      "cell_type": "code",
      "execution_count": null,
      "metadata": {
        "id": "KRit94Gs1xcQ"
      },
      "outputs": [],
      "source": [
        "np.random.randn()"
      ]
    },
    {
      "cell_type": "code",
      "execution_count": null,
      "metadata": {
        "id": "h_y-JMyT2UBb"
      },
      "outputs": [],
      "source": [
        "np.random.randn(2, 2)"
      ]
    },
    {
      "cell_type": "code",
      "execution_count": null,
      "metadata": {
        "id": "Q_e6e3u-2WK5"
      },
      "outputs": [],
      "source": [
        "x = np.random.randn(10000)"
      ]
    },
    {
      "cell_type": "code",
      "execution_count": null,
      "metadata": {
        "id": "kKOjwuZn2cF5"
      },
      "outputs": [],
      "source": [
        "import matplotlib.pyplot as plt\n",
        "\n",
        "plt.hist(x, bins=50)\n",
        "plt.show()"
      ]
    },
    {
      "cell_type": "markdown",
      "metadata": {
        "id": "laHzceI23Ojc"
      },
      "source": [
        "# 正規分布に従う乱数"
      ]
    },
    {
      "cell_type": "code",
      "execution_count": null,
      "metadata": {
        "id": "ptkizkYy2f8p"
      },
      "outputs": [],
      "source": [
        "np.random.normal(1, 2)"
      ]
    },
    {
      "cell_type": "code",
      "execution_count": null,
      "metadata": {
        "id": "lQLhDP0H3TNC"
      },
      "outputs": [],
      "source": [
        "np.random.normal(3, 2, (3, 3))"
      ]
    },
    {
      "cell_type": "code",
      "execution_count": null,
      "metadata": {
        "id": "bJRqZDsD3XhK"
      },
      "outputs": [],
      "source": [
        "x = np.random.normal(2, 3, 10000)"
      ]
    },
    {
      "cell_type": "code",
      "execution_count": null,
      "metadata": {
        "id": "Gjxq59tH3ex8"
      },
      "outputs": [],
      "source": [
        "import matplotlib.pyplot as plt\n",
        "\n",
        "plt.hist(x, bins=50)\n",
        "plt.show()"
      ]
    },
    {
      "cell_type": "code",
      "execution_count": null,
      "metadata": {
        "id": "b-Lw64nD3hNv"
      },
      "outputs": [],
      "source": [
        "mu = 2\n",
        "sigma = 3\n",
        "x = sigma * np.random.randn(10000) + mu"
      ]
    },
    {
      "cell_type": "code",
      "execution_count": null,
      "metadata": {
        "id": "qZtN9Bwa3wTX"
      },
      "outputs": [],
      "source": [
        "import matplotlib.pyplot as plt\n",
        "\n",
        "plt.hist(x, bins=50)\n",
        "plt.show()"
      ]
    },
    {
      "cell_type": "markdown",
      "metadata": {
        "id": "gPgakgvL34LM"
      },
      "source": [
        "# 二項分布に従う乱数"
      ]
    },
    {
      "cell_type": "code",
      "execution_count": null,
      "metadata": {
        "id": "ElWSBcvV4Vfy"
      },
      "outputs": [],
      "source": [
        "np.random.binomial(1, 0.3)  # 試行回数1, 成功確率0.3"
      ]
    },
    {
      "cell_type": "code",
      "execution_count": null,
      "metadata": {
        "id": "XBmLCtN-3yVa"
      },
      "outputs": [],
      "source": [
        "np.random.binomial(1, 0.3, (2, 3))"
      ]
    },
    {
      "cell_type": "code",
      "execution_count": null,
      "metadata": {
        "id": "DOYO81y03-kN"
      },
      "outputs": [],
      "source": [
        "np.random.binomial(5, 0.5, (2, 3))"
      ]
    },
    {
      "cell_type": "code",
      "execution_count": null,
      "metadata": {
        "id": "W8aKINOU4kOY"
      },
      "outputs": [],
      "source": [
        "x = np.random.binomial(10, 0.5, 10000)"
      ]
    },
    {
      "cell_type": "code",
      "execution_count": null,
      "metadata": {
        "id": "qpitO0mO4uKC"
      },
      "outputs": [],
      "source": [
        "import matplotlib.pyplot as plt\n",
        "\n",
        "plt.hist(x, bins=50)\n",
        "plt.show()"
      ]
    },
    {
      "cell_type": "code",
      "execution_count": null,
      "metadata": {
        "id": "CkQ6TrcO4xb5"
      },
      "outputs": [],
      "source": [
        "x = np.random.binomial(10, 0.2, 10000)"
      ]
    },
    {
      "cell_type": "code",
      "execution_count": null,
      "metadata": {
        "id": "8NoyDLdA44YH"
      },
      "outputs": [],
      "source": [
        "import matplotlib.pyplot as plt\n",
        "\n",
        "plt.hist(x, bins=50)\n",
        "plt.show()"
      ]
    },
    {
      "cell_type": "markdown",
      "metadata": {
        "id": "wJqxo8sk75xo"
      },
      "source": [
        "# 乱数のシード"
      ]
    },
    {
      "cell_type": "code",
      "execution_count": null,
      "metadata": {
        "id": "fwAQtdzC77rJ"
      },
      "outputs": [],
      "source": [
        "np.random.rand(2, 2)"
      ]
    },
    {
      "cell_type": "code",
      "execution_count": null,
      "metadata": {
        "id": "QVTfI4sC8Bsk"
      },
      "outputs": [],
      "source": [
        "np.random.rand(2, 2)"
      ]
    },
    {
      "cell_type": "code",
      "execution_count": null,
      "metadata": {
        "id": "3SUv_xtP8DMI"
      },
      "outputs": [],
      "source": [
        "np.random.seed(1)\n",
        "np.random.rand(2, 2)"
      ]
    },
    {
      "cell_type": "code",
      "execution_count": null,
      "metadata": {
        "id": "kNlbuJnq8HV3"
      },
      "outputs": [],
      "source": [
        "np.random.seed(1)\n",
        "np.random.rand(2, 2)"
      ]
    },
    {
      "cell_type": "code",
      "execution_count": null,
      "metadata": {
        "id": "kpbLPKQf8Ju4"
      },
      "outputs": [],
      "source": [
        "np.random.seed(2)\n",
        "np.random.rand(2, 2)"
      ]
    },
    {
      "cell_type": "code",
      "execution_count": null,
      "metadata": {
        "id": "9xj6EKE48ZMi"
      },
      "outputs": [],
      "source": [
        "np.random.seed(2)\n",
        "np.random.rand(2, 2)"
      ]
    },
    {
      "cell_type": "code",
      "execution_count": null,
      "metadata": {
        "id": "YTnDNaSS8aR0"
      },
      "outputs": [],
      "source": [
        "np.random.seed(2)"
      ]
    },
    {
      "cell_type": "code",
      "execution_count": null,
      "metadata": {
        "id": "-ESHewqj8evz"
      },
      "outputs": [],
      "source": [
        "np.random.rand(2, 2)"
      ]
    },
    {
      "cell_type": "code",
      "execution_count": null,
      "metadata": {
        "id": "B__9exBL8gwp"
      },
      "outputs": [],
      "source": [
        "np.random.rand(2, 2)"
      ]
    },
    {
      "cell_type": "markdown",
      "metadata": {
        "id": "U0Bl3tnR5iHk"
      },
      "source": [
        "# 演習\n",
        "\n",
        "- 1から6の目を取るサイコロをn回投げた際の、出た目の和を返す関数「throw_dice」を作成し、「ex_A_1_5」という名前のモジュールで作業ディレクトリの下に保存せよ（離散一様乱数を利用、シード値は設定しないこと）"
      ]
    },
    {
      "cell_type": "code",
      "execution_count": null,
      "metadata": {
        "id": "TKLTXoZQ46JA"
      },
      "outputs": [],
      "source": [
        "!wget https://raw.githubusercontent.com/maskot1977/tmd2023py/main/util/ex_A_1_5.py"
      ]
    },
    {
      "cell_type": "markdown",
      "metadata": {
        "id": "eR0hxuoT9hIR"
      },
      "source": [
        "- 作成したモジュールを呼び出し、サイコロを30回投げた際の出目の和を観察せよ。"
      ]
    },
    {
      "cell_type": "code",
      "execution_count": null,
      "metadata": {
        "id": "iwPXt03X9ggy"
      },
      "outputs": [],
      "source": [
        "import ex_A_1_5 as dice"
      ]
    },
    {
      "cell_type": "code",
      "execution_count": null,
      "metadata": {
        "id": "UxiGLVWx83IZ"
      },
      "outputs": [],
      "source": [
        "dice.throw_dice(30)"
      ]
    },
    {
      "cell_type": "code",
      "execution_count": null,
      "metadata": {
        "id": "owMLd96v-Q-l"
      },
      "outputs": [],
      "source": [
        "x = [dice.throw_dice(30) for _ in range(10000)]"
      ]
    },
    {
      "cell_type": "code",
      "execution_count": null,
      "metadata": {
        "id": "jhFgs3AY-ag1"
      },
      "outputs": [],
      "source": [
        "import matplotlib.pyplot as plt\n",
        "\n",
        "plt.hist(x, bins=50)\n",
        "plt.show()"
      ]
    },
    {
      "cell_type": "markdown",
      "metadata": {
        "id": "Rs8IUVUo_MyE"
      },
      "source": [
        "# 乱数の利用 - サイコロ投げ"
      ]
    },
    {
      "cell_type": "code",
      "execution_count": null,
      "metadata": {
        "id": "MUk56Rzy-g-a"
      },
      "outputs": [],
      "source": [
        "import ex_A_1_5 as dice\n",
        "\n",
        "dice.throw_dice(10)"
      ]
    },
    {
      "cell_type": "code",
      "execution_count": null,
      "metadata": {
        "id": "_yzfNCpg_epZ"
      },
      "outputs": [],
      "source": [
        "import ex_A_1_5 as dice\n",
        "\n",
        "np.random.seed(5)\n",
        "dice.throw_dice(10)"
      ]
    },
    {
      "cell_type": "code",
      "execution_count": null,
      "metadata": {
        "id": "jwwmXGnH_kpp"
      },
      "outputs": [],
      "source": [
        "import ex_A_1_5 as dice\n",
        "\n",
        "np.random.seed(5)\n",
        "dice.throw_dice(10)"
      ]
    },
    {
      "cell_type": "markdown",
      "metadata": {
        "id": "nBzVIWj_ACRD"
      },
      "source": [
        "# 復元抽出"
      ]
    },
    {
      "cell_type": "code",
      "execution_count": null,
      "metadata": {
        "id": "GSaVjvxA_mh3"
      },
      "outputs": [],
      "source": [
        "data = np.arange(15)\n",
        "data"
      ]
    },
    {
      "cell_type": "code",
      "execution_count": null,
      "metadata": {
        "id": "R1ynKfJ2AKDx"
      },
      "outputs": [],
      "source": [
        "np.random.choice(data, 10)"
      ]
    },
    {
      "cell_type": "code",
      "execution_count": null,
      "metadata": {
        "id": "R2U32A0BAjmp"
      },
      "outputs": [],
      "source": [
        "np.random.choice(data, 20)"
      ]
    },
    {
      "cell_type": "markdown",
      "metadata": {
        "id": "3dAURCo7APyN"
      },
      "source": [
        "# 非復元抽出"
      ]
    },
    {
      "cell_type": "code",
      "execution_count": null,
      "metadata": {
        "id": "DTY3RBA-AM2K"
      },
      "outputs": [],
      "source": [
        "data = np.arange(15)\n",
        "data"
      ]
    },
    {
      "cell_type": "code",
      "execution_count": null,
      "metadata": {
        "id": "iTAwkrXIAUAA"
      },
      "outputs": [],
      "source": [
        "np.random.choice(data, 10, replace=False)"
      ]
    },
    {
      "cell_type": "code",
      "execution_count": null,
      "metadata": {
        "id": "eTibcb5ZAYAe"
      },
      "outputs": [],
      "source": [
        "np.random.choice(data, 20, replace=False)"
      ]
    },
    {
      "cell_type": "code",
      "execution_count": null,
      "metadata": {
        "id": "DCHSPL6HAoa8"
      },
      "outputs": [],
      "source": [
        "data = list(\"abcde\")\n",
        "data"
      ]
    },
    {
      "cell_type": "code",
      "execution_count": null,
      "metadata": {
        "id": "0-EvOwKDAzH8"
      },
      "outputs": [],
      "source": [
        "np.random.choice(data, 3)"
      ]
    },
    {
      "cell_type": "markdown",
      "metadata": {
        "id": "jwDD2JkHBAtm"
      },
      "source": [
        "# 乱数の利用 - ブートストラップ法"
      ]
    },
    {
      "cell_type": "code",
      "execution_count": null,
      "metadata": {
        "id": "D7s0RuwJA44u"
      },
      "outputs": [],
      "source": [
        "data = list(\"abcdef\")\n",
        "for _ in range(5):\n",
        "    print(np.random.choice(data, 5))"
      ]
    },
    {
      "cell_type": "markdown",
      "metadata": {
        "id": "o0RM4oSCBcW3"
      },
      "source": [
        "# 演習\n",
        "\n",
        "- サイコロを10個投げて、その出目の平均を観察する実験を1000回シミュレーションし、得られた1000回の結果の平均とヒストグラムを描け"
      ]
    },
    {
      "cell_type": "code",
      "execution_count": null,
      "metadata": {
        "id": "CV2nPgb6BQbC"
      },
      "outputs": [],
      "source": [
        "import ex_A_1_5 as dice\n",
        "import matplotlib.pyplot as plt\n",
        "\n",
        "x = [dice.throw_dice(10) for _ in range(1000)]\n",
        "\n",
        "print(np.mean(x))\n",
        "plt.hist(x, bins=50)\n",
        "plt.show()"
      ]
    },
    {
      "cell_type": "markdown",
      "metadata": {
        "id": "7ivvkaJADotf"
      },
      "source": [
        "- 自身の名前のローマ字を持つデータセットを作り、非復元抽出を利用することでランダムな並び替えを行え"
      ]
    },
    {
      "cell_type": "code",
      "execution_count": null,
      "metadata": {
        "id": "W_eusd1mB7-P"
      },
      "outputs": [],
      "source": [
        "name = \"MasaakiKotera\"\n",
        "x = np.random.choice(list(name), len(name), replace=False)\n",
        "x"
      ]
    },
    {
      "cell_type": "code",
      "execution_count": null,
      "metadata": {
        "id": "qFCBkU1XEAjJ"
      },
      "outputs": [],
      "source": [
        "import random\n",
        "\n",
        "name = \"MasaakiKotera\"\n",
        "x = list(name)\n",
        "random.shuffle(x)\n",
        "x"
      ]
    },
    {
      "cell_type": "markdown",
      "metadata": {
        "id": "cCL_4_HSU_--"
      },
      "source": [
        "# 折れ線グラフ"
      ]
    },
    {
      "cell_type": "code",
      "execution_count": null,
      "metadata": {
        "id": "EavYhbZxU164"
      },
      "outputs": [],
      "source": [
        "import matplotlib.pyplot as plt"
      ]
    },
    {
      "cell_type": "code",
      "execution_count": null,
      "metadata": {
        "id": "lfvFPK2qVS1S"
      },
      "outputs": [],
      "source": [
        "x = np.array([0, 1, 2, 3])\n",
        "y = np.array([2, 5, 4, 7])\n",
        "\n",
        "plt.plot(x, y)\n",
        "plt.show()"
      ]
    },
    {
      "cell_type": "code",
      "execution_count": null,
      "metadata": {
        "id": "qvMZne31YhKS"
      },
      "outputs": [],
      "source": [
        "x = np.array([0, 1, 2, 3])\n",
        "y = np.array([2, 5, 4, 7])\n",
        "\n",
        "plt.title(\"This is great.\")\n",
        "plt.plot(x, y, marker=\"o\")\n",
        "plt.xlabel(\"X\")\n",
        "plt.ylabel(\"Y\")\n",
        "plt.grid()\n",
        "plt.show()"
      ]
    },
    {
      "cell_type": "code",
      "execution_count": null,
      "metadata": {
        "id": "yZFbV_-iZAT1"
      },
      "outputs": [],
      "source": [
        "x = np.linspace(-5, 5, 300)\n",
        "\n",
        "f = lambda x: x ** 2\n",
        "\n",
        "plt.plot(x, f(x), color=\"b\")\n",
        "plt.show()"
      ]
    },
    {
      "cell_type": "code",
      "execution_count": null,
      "metadata": {
        "id": "XAjTUFCGZVdS"
      },
      "outputs": [],
      "source": [
        "x = np.linspace(-5, 5, 50)\n",
        "\n",
        "f = lambda x: x ** 2\n",
        "\n",
        "plt.plot(x, f(x), color=\"b\", label=\"y = f(x)\")\n",
        "plt.plot(x, f(x - 1), color=\"r\", linestyle=\"--\", label=\"y = f(x - 1)\")\n",
        "plt.legend()\n",
        "plt.show()"
      ]
    },
    {
      "cell_type": "code",
      "execution_count": null,
      "metadata": {
        "id": "9_zOHjgcZfLk"
      },
      "outputs": [],
      "source": [
        "x = np.linspace(-10, 10, 300)\n",
        "\n",
        "f = lambda x: 1 / (1 + np.exp(-x))\n",
        "\n",
        "plt.plot(x, f(x), color=\"k\", label=\"y = f(x)\")\n",
        "plt.plot(x, f(x - 1), color=\"b\", linestyle=\"--\", label=\"y = f(x - 1)\")\n",
        "plt.plot(x, f(2 * x), color=\"r\", linestyle=\":\", label=\"y = f(2x)\")\n",
        "plt.plot(\n",
        "    x,\n",
        "    f(f(x) + 2 * f(x - 1) - 3 * f(2 * x)),\n",
        "    color=\"g\",\n",
        "    linestyle=\"-.\",\n",
        "    label=\"y = f(f(x) + 2f(x - 1) - 3f(2x))\",\n",
        ")\n",
        "\n",
        "plt.grid()\n",
        "plt.legend()\n",
        "plt.show()"
      ]
    },
    {
      "cell_type": "markdown",
      "metadata": {
        "id": "cXwNFy5odI_V"
      },
      "source": [
        "# 散布図"
      ]
    },
    {
      "cell_type": "code",
      "execution_count": null,
      "metadata": {
        "id": "krcVjD51Z1KT"
      },
      "outputs": [],
      "source": [
        "import numpy as np\n",
        "\n",
        "f = lambda x: -x + np.random.normal(2, 3, 100)\n",
        "\n",
        "x = np.random.normal(2, 3, 100)\n",
        "y = f(x)\n",
        "\n",
        "plt.scatter(x, y, alpha=0.6)\n",
        "plt.show()"
      ]
    },
    {
      "cell_type": "code",
      "execution_count": null,
      "metadata": {
        "id": "fbX1FrhYdNfU"
      },
      "outputs": [],
      "source": [
        "import numpy as np\n",
        "\n",
        "f = lambda x: -x + np.random.normal(0, 1, 20)\n",
        "g = lambda x, a: f(x) + a\n",
        "\n",
        "x0 = np.random.normal(0, 1, 20)\n",
        "x1 = np.random.normal(0, 1.5, 20) + 5\n",
        "x2 = np.random.normal(0, 2, 20) + 10\n",
        "x3 = np.random.normal(0, 2.5, 20) + 15\n",
        "x4 = np.random.normal(0, 3, 20) + 20\n",
        "x5 = np.random.normal(0, 3.5, 20) + 25\n",
        "\n",
        "y0 = g(x0, 0)\n",
        "y1 = g(x1, 10)\n",
        "y2 = g(x2, 20)\n",
        "y3 = g(x3, 30)\n",
        "y4 = g(x4, 40)\n",
        "y5 = g(x5, 50)\n",
        "\n",
        "plt.scatter(x0, y0, alpha=0.6)\n",
        "plt.scatter(x1, y1, alpha=0.6)\n",
        "plt.scatter(x2, y2, alpha=0.6)\n",
        "plt.scatter(x3, y3, alpha=0.6)\n",
        "plt.scatter(x4, y4, alpha=0.6)\n",
        "plt.scatter(x5, y5, alpha=0.6)\n",
        "plt.show()"
      ]
    },
    {
      "cell_type": "markdown",
      "metadata": {
        "id": "KmK3skbMlRck"
      },
      "source": [
        "# ヒストグラム"
      ]
    },
    {
      "cell_type": "code",
      "execution_count": null,
      "metadata": {
        "id": "jTzL3TCglzkc"
      },
      "outputs": [],
      "source": [
        "x = np.random.normal(0, 1, 1000)"
      ]
    },
    {
      "cell_type": "code",
      "execution_count": null,
      "metadata": {
        "id": "tsCEBfkReF2P"
      },
      "outputs": [],
      "source": [
        "plt.hist(x)\n",
        "plt.show()"
      ]
    },
    {
      "cell_type": "code",
      "execution_count": null,
      "metadata": {
        "id": "E4eoEVjxlaO3"
      },
      "outputs": [],
      "source": [
        "plt.hist(x, bins=20)\n",
        "plt.show()"
      ]
    },
    {
      "cell_type": "code",
      "execution_count": null,
      "metadata": {
        "id": "CCvrpMwClqz2"
      },
      "outputs": [],
      "source": [
        "plt.hist(x, 20)\n",
        "plt.show()"
      ]
    },
    {
      "cell_type": "code",
      "execution_count": null,
      "metadata": {
        "id": "6jCD2YxAlxBJ"
      },
      "outputs": [],
      "source": [
        "plt.hist(x, [-4, -3, -2, -1, 0, 1, 2, 3, 4, 5])\n",
        "plt.show()"
      ]
    },
    {
      "cell_type": "code",
      "execution_count": null,
      "metadata": {
        "id": "r1e9PqHOmCU4"
      },
      "outputs": [],
      "source": [
        "plt.hist(x, np.arange(-4, 4, 0.5))\n",
        "plt.show()"
      ]
    },
    {
      "cell_type": "markdown",
      "metadata": {
        "id": "uhdwHm-Tm8VO"
      },
      "source": [
        "# 演習\n",
        "\n",
        "- -3 &le; x &le; 3 の範囲に対し、$sin x^2$ と $cos 2x$ のグラフをそれぞれ赤と青のラインを用いて１つのプロット内に描け。十分に滑らかな曲線に見えるプロット数で描くこと。色指定以外のオプションは自由に設定して良い。"
      ]
    },
    {
      "cell_type": "code",
      "execution_count": null,
      "metadata": {
        "id": "3SYlL1jmmOTe"
      },
      "outputs": [],
      "source": [
        "import matplotlib.pyplot as plt\n",
        "import numpy as np\n",
        "\n",
        "x = np.linspace(-3, 3, 200)\n",
        "f = lambda x: np.sin(x ** 2)\n",
        "g = lambda x: np.cos(2 * x)\n",
        "\n",
        "plt.plot(x, f(x), c=\"r\", label=\"y=f(x)\")\n",
        "plt.plot(x, g(x), c=\"b\", label=\"y=g(x)\", linestyle=\"-.\")\n",
        "plt.grid()\n",
        "plt.legend(bbox_to_anchor=(1.01, 1), loc=\"upper left\", borderaxespad=0, fontsize=9)\n",
        "plt.show()"
      ]
    },
    {
      "cell_type": "markdown",
      "metadata": {
        "id": "Ij_CivDdpMdD"
      },
      "source": [
        "- 平均2・標準偏差4の正規分布から発生されるXと、平均5・標準偏差1の正規分布から発生されるYの組み合わせ (X, Y) を考える。(X, Y) に従う乱数を100個発生させ、散布図を描け。また同様に、乱数1000000個発生させ散布図を描くことで、この分布はどのような形をしているか予想せよ。"
      ]
    },
    {
      "cell_type": "code",
      "execution_count": null,
      "metadata": {
        "id": "HNd8KgBVohHJ"
      },
      "outputs": [],
      "source": [
        "import matplotlib.pyplot as plt\n",
        "import numpy as np\n",
        "\n",
        "n_sample = 100\n",
        "X = np.random.normal(2, 4, n_sample)\n",
        "Y = np.random.normal(5, 1, n_sample)\n",
        "plt.scatter(X, Y, alpha=0.5)\n",
        "plt.show()"
      ]
    },
    {
      "cell_type": "code",
      "execution_count": null,
      "metadata": {
        "id": "G3yjqtsJp7-5",
        "tags": []
      },
      "outputs": [],
      "source": [
        "import matplotlib.pyplot as plt\n",
        "import numpy as np\n",
        "\n",
        "n_sample = 1000000\n",
        "X = np.random.normal(2, 4, n_sample)\n",
        "Y = np.random.normal(5, 1, n_sample)\n",
        "plt.scatter(X, Y, alpha=0.1)\n",
        "plt.show()"
      ]
    }
  ],
  "metadata": {
    "colab": {
      "provenance": [],
      "include_colab_link": true
    },
    "kernelspec": {
      "display_name": "Python 3 (ipykernel)",
      "language": "python",
      "name": "python3"
    },
    "language_info": {
      "codemirror_mode": {
        "name": "ipython",
        "version": 3
      },
      "file_extension": ".py",
      "mimetype": "text/x-python",
      "name": "python",
      "nbconvert_exporter": "python",
      "pygments_lexer": "ipython3",
      "version": "3.10.6"
    }
  },
  "nbformat": 4,
  "nbformat_minor": 0
}