{
  "cells": [
    {
      "cell_type": "markdown",
      "metadata": {
        "id": "view-in-github",
        "colab_type": "text"
      },
      "source": [
        "<a href=\"https://colab.research.google.com/github/maskot1977/tmd2023py/blob/main/notebooks/hoshu_4_1.ipynb\" target=\"_parent\"><img src=\"https://colab.research.google.com/assets/colab-badge.svg\" alt=\"Open In Colab\"/></a>"
      ]
    },
    {
      "cell_type": "markdown",
      "metadata": {
        "id": "TmV3MqOKn5V0"
      },
      "source": [
        "# プログラミング入門第7回・第8回の補習（その１）\n",
        "\n",
        "小寺正明　東京医科歯科大学 統合教育機構 客員准教授, （株）Preferred Networks 研究員\n",
        "\n",
        "# タイムスケジュール\n",
        "\n",
        "- 18時～19時30分 実習タイム（実習タイム中も随時質問OKです）\n",
        "- 19時40分～ 質問タイム\n",
        "\n",
        "# 実施日程・講師\n",
        "\n",
        "- 6/10（第２回の内容）, 6/17（第３・４回の内容） - 長谷武志 先生\n",
        "- 6/24（第５・６回の内容）, 7/1（第７・８回の内容） - 小寺\n",
        "- 7/8（第９・１０回の内容）, 7/15（総合演習） - 石田智 先生\n",
        "\n",
        "# 本日の内容\n",
        "\n",
        "- 下川先生のプログラミング入門の第７・８回の資料から抜粋し一部改変して作成しております。\n",
        "\n",
        "\n",
        "# Numpyの関数"
      ]
    },
    {
      "cell_type": "code",
      "execution_count": null,
      "metadata": {
        "id": "Y3pHk5QpLbSw"
      },
      "outputs": [],
      "source": [
        "import numpy as np"
      ]
    },
    {
      "cell_type": "code",
      "execution_count": null,
      "metadata": {
        "id": "CtDOkhAD8WLh"
      },
      "outputs": [],
      "source": [
        "np.exp(2)"
      ]
    },
    {
      "cell_type": "code",
      "execution_count": null,
      "metadata": {
        "id": "TBJhOCdk8Ynr"
      },
      "outputs": [],
      "source": [
        "np.log(2)"
      ]
    },
    {
      "cell_type": "code",
      "execution_count": null,
      "metadata": {
        "id": "pr4xFAQV8aBR"
      },
      "outputs": [],
      "source": [
        "np.log(np.e)"
      ]
    },
    {
      "cell_type": "code",
      "execution_count": null,
      "metadata": {
        "id": "S4qI3NZI8bo_"
      },
      "outputs": [],
      "source": [
        "np.cos(0)"
      ]
    },
    {
      "cell_type": "code",
      "execution_count": null,
      "metadata": {
        "id": "VOyGfhZq8ex5"
      },
      "outputs": [],
      "source": [
        "np.sin(np.pi)"
      ]
    },
    {
      "cell_type": "code",
      "execution_count": null,
      "metadata": {
        "id": "z58faxvT8gIc"
      },
      "outputs": [],
      "source": [
        "np.sqrt(3)"
      ]
    },
    {
      "cell_type": "markdown",
      "metadata": {
        "id": "BPn08AbK8rLQ"
      },
      "source": [
        "# Numpy の配列"
      ]
    },
    {
      "cell_type": "code",
      "execution_count": null,
      "metadata": {
        "id": "MRcaleZT8q4v"
      },
      "outputs": [],
      "source": [
        "import numpy as np"
      ]
    },
    {
      "cell_type": "code",
      "execution_count": null,
      "metadata": {
        "id": "IGfgWr738iG3"
      },
      "outputs": [],
      "source": [
        "a = np.array([2, 3, 5, 7, 8])\n",
        "print(a)"
      ]
    },
    {
      "cell_type": "code",
      "execution_count": null,
      "metadata": {
        "id": "c2IjgAct82Eg"
      },
      "outputs": [],
      "source": [
        "type(a)"
      ]
    },
    {
      "cell_type": "markdown",
      "metadata": {
        "id": "TlHZZAzeBnpS"
      },
      "source": [
        "# 配列のスライシング"
      ]
    },
    {
      "cell_type": "code",
      "execution_count": null,
      "metadata": {
        "id": "-sxaeWqG83Db"
      },
      "outputs": [],
      "source": [
        "a[1]"
      ]
    },
    {
      "cell_type": "code",
      "execution_count": null,
      "metadata": {
        "id": "4QaL-apD845X"
      },
      "outputs": [],
      "source": [
        "a[2:4]"
      ]
    },
    {
      "cell_type": "code",
      "execution_count": null,
      "metadata": {
        "id": "8c57_TXw87Qa"
      },
      "outputs": [],
      "source": [
        "a[1:5:2]"
      ]
    },
    {
      "cell_type": "code",
      "execution_count": null,
      "metadata": {
        "id": "JO2BPlUK9BVP"
      },
      "outputs": [],
      "source": [
        "a[::-1]"
      ]
    },
    {
      "cell_type": "markdown",
      "metadata": {
        "id": "apVwc05lBsLr"
      },
      "source": [
        "# 連続値の要素を持つ配列の作成"
      ]
    },
    {
      "cell_type": "code",
      "execution_count": null,
      "metadata": {
        "id": "LhIlCqda9DRo"
      },
      "outputs": [],
      "source": [
        "b = np.arange(4)\n",
        "print(b)"
      ]
    },
    {
      "cell_type": "code",
      "execution_count": null,
      "metadata": {
        "id": "IfB4XcsB9Hc6"
      },
      "outputs": [],
      "source": [
        "c = np.arange(1, 4, 0.3)\n",
        "print(c)"
      ]
    },
    {
      "cell_type": "markdown",
      "metadata": {
        "id": "jcXy-Fh_B53b"
      },
      "source": [
        "# 配列の要素の型"
      ]
    },
    {
      "cell_type": "code",
      "execution_count": null,
      "metadata": {
        "id": "Sgy_j--V9N3C"
      },
      "outputs": [],
      "source": [
        "b.dtype"
      ]
    },
    {
      "cell_type": "code",
      "execution_count": null,
      "metadata": {
        "id": "coyPlLEI9Qzl"
      },
      "outputs": [],
      "source": [
        "c.dtype"
      ]
    },
    {
      "cell_type": "code",
      "execution_count": null,
      "metadata": {
        "id": "sBrhOaD59SAK"
      },
      "outputs": [],
      "source": [
        "d = np.array([2, 3, 5, 7, 8], dtype=np.float64)\n",
        "print(d)"
      ]
    },
    {
      "cell_type": "code",
      "execution_count": null,
      "metadata": {
        "id": "EwF8nHdq9akE"
      },
      "outputs": [],
      "source": [
        "d.dtype"
      ]
    },
    {
      "cell_type": "markdown",
      "metadata": {
        "id": "V4kKRwUoCAB8"
      },
      "source": [
        "# 二次元配列"
      ]
    },
    {
      "cell_type": "code",
      "execution_count": null,
      "metadata": {
        "id": "YzjrlR6i9bQ4"
      },
      "outputs": [],
      "source": [
        "a = np.array([[1, 2, 3], [4, 5, 6]], dtype=np.float64)\n",
        "print(a)"
      ]
    },
    {
      "cell_type": "code",
      "execution_count": null,
      "metadata": {
        "id": "4HbWdwCr9kQ7"
      },
      "outputs": [],
      "source": [
        "type(a)"
      ]
    },
    {
      "cell_type": "code",
      "execution_count": null,
      "metadata": {
        "id": "CCv6-6iE9lsz"
      },
      "outputs": [],
      "source": [
        "a[0, 1]"
      ]
    },
    {
      "cell_type": "code",
      "execution_count": null,
      "metadata": {
        "id": "BhLp8xkj9ocG"
      },
      "outputs": [],
      "source": [
        "a[:, 1]"
      ]
    },
    {
      "cell_type": "code",
      "execution_count": null,
      "metadata": {
        "id": "dFkBBIl29qbr"
      },
      "outputs": [],
      "source": [
        "a[0, :]"
      ]
    },
    {
      "cell_type": "code",
      "execution_count": null,
      "metadata": {
        "id": "VaZHLHPv9syu"
      },
      "outputs": [],
      "source": [
        "a[0, 1:]"
      ]
    },
    {
      "cell_type": "code",
      "execution_count": null,
      "metadata": {
        "id": "k2BqE7w-9wgf"
      },
      "outputs": [],
      "source": [
        "a[0, :2]"
      ]
    },
    {
      "cell_type": "markdown",
      "metadata": {
        "id": "DapZiJDuCGRC"
      },
      "source": [
        "# 配列の形状変更"
      ]
    },
    {
      "cell_type": "code",
      "execution_count": null,
      "metadata": {
        "id": "AVNgwZK_96aY"
      },
      "outputs": [],
      "source": [
        "a = np.arange(15.0)\n",
        "print(a)"
      ]
    },
    {
      "cell_type": "code",
      "execution_count": null,
      "metadata": {
        "id": "fpROcCFb9_Ru"
      },
      "outputs": [],
      "source": [
        "a = a.reshape(3, 5)\n",
        "print(a)"
      ]
    },
    {
      "cell_type": "code",
      "execution_count": null,
      "metadata": {
        "id": "VHN2B_XR-CSz"
      },
      "outputs": [],
      "source": [
        "a.shape"
      ]
    },
    {
      "cell_type": "code",
      "execution_count": null,
      "metadata": {
        "id": "xvZNXHJa-Erq"
      },
      "outputs": [],
      "source": [
        "a.ndim"
      ]
    },
    {
      "cell_type": "code",
      "execution_count": null,
      "metadata": {
        "id": "T8KtLQQL-Fhf"
      },
      "outputs": [],
      "source": [
        "a.size"
      ]
    },
    {
      "cell_type": "code",
      "execution_count": null,
      "metadata": {
        "id": "0W79cmk8-Gxf"
      },
      "outputs": [],
      "source": [
        "import numpy as np"
      ]
    },
    {
      "cell_type": "code",
      "execution_count": null,
      "metadata": {
        "id": "6-UwCgRN-KKX"
      },
      "outputs": [],
      "source": [
        "a = np.arange(16.0)\n",
        "print(a)"
      ]
    },
    {
      "cell_type": "code",
      "execution_count": null,
      "metadata": {
        "id": "h-0ML76r-NET"
      },
      "outputs": [],
      "source": [
        "b = a.reshape(4, -1)\n",
        "print(b)"
      ]
    },
    {
      "cell_type": "code",
      "execution_count": null,
      "metadata": {
        "id": "xFrMKtUe-Pmd"
      },
      "outputs": [],
      "source": [
        "c = a.reshape(-1, 2)\n",
        "print(c)"
      ]
    },
    {
      "cell_type": "code",
      "execution_count": null,
      "metadata": {
        "id": "c7jEAu7F-TPp"
      },
      "outputs": [],
      "source": [
        "d = c.reshape(-1)\n",
        "print(d)"
      ]
    },
    {
      "cell_type": "markdown",
      "metadata": {
        "id": "cTO2HiZgCNeI"
      },
      "source": [
        "# 便利な配列操作"
      ]
    },
    {
      "cell_type": "code",
      "execution_count": null,
      "metadata": {
        "id": "z4vRK49l-WLI"
      },
      "outputs": [],
      "source": [
        "a = np.zeros((3, 4))\n",
        "print(a)"
      ]
    },
    {
      "cell_type": "code",
      "execution_count": null,
      "metadata": {
        "id": "qZrg0QHK-d_u"
      },
      "outputs": [],
      "source": [
        "b = np.ones((2, 3))\n",
        "print(b)"
      ]
    },
    {
      "cell_type": "code",
      "execution_count": null,
      "metadata": {
        "id": "1crdV_b5-uLD"
      },
      "outputs": [],
      "source": [
        "c = np.arange(1, 2.1, 0.1)\n",
        "print(c)"
      ]
    },
    {
      "cell_type": "code",
      "execution_count": null,
      "metadata": {
        "id": "ebSAnw_8-hVy"
      },
      "outputs": [],
      "source": [
        "c = np.linspace(1, 2, 11)\n",
        "print(c)"
      ]
    },
    {
      "cell_type": "markdown",
      "metadata": {
        "id": "AqlpLBRiCSu6"
      },
      "source": [
        "# 配列の連結"
      ]
    },
    {
      "cell_type": "code",
      "execution_count": null,
      "metadata": {
        "id": "ZEIs1zdo-qjE"
      },
      "outputs": [],
      "source": [
        "a = np.zeros((2, 3))\n",
        "print(a)"
      ]
    },
    {
      "cell_type": "code",
      "execution_count": null,
      "metadata": {
        "id": "V16MwPxM_CaS"
      },
      "outputs": [],
      "source": [
        "b = np.ones((2, 3))\n",
        "print(b)"
      ]
    },
    {
      "cell_type": "code",
      "execution_count": null,
      "metadata": {
        "id": "zALZL1zF_GHJ"
      },
      "outputs": [],
      "source": [
        "c = np.r_[a, b]\n",
        "print(c)"
      ]
    },
    {
      "cell_type": "code",
      "execution_count": null,
      "metadata": {
        "id": "9QkOFkvS_KFZ"
      },
      "outputs": [],
      "source": [
        "c = np.concatenate((a, b))\n",
        "print(c)"
      ]
    },
    {
      "cell_type": "code",
      "execution_count": null,
      "metadata": {
        "id": "KpjR4-vM_NCL"
      },
      "outputs": [],
      "source": [
        "c = np.r_[a, b, a]\n",
        "print(c)"
      ]
    },
    {
      "cell_type": "code",
      "execution_count": null,
      "metadata": {
        "id": "WV-6yJUg_UVn"
      },
      "outputs": [],
      "source": [
        "c = np.concatenate((a, b, a))\n",
        "print(c)"
      ]
    },
    {
      "cell_type": "code",
      "execution_count": null,
      "metadata": {
        "id": "0sKmkYCR_Wk-"
      },
      "outputs": [],
      "source": [
        "d = np.c_[a, b]\n",
        "print(d)"
      ]
    },
    {
      "cell_type": "code",
      "execution_count": null,
      "metadata": {
        "id": "FZbU_rC9BQo8"
      },
      "outputs": [],
      "source": [
        "d = np.concatenate([a, b], axis=1)\n",
        "d"
      ]
    },
    {
      "cell_type": "code",
      "execution_count": null,
      "metadata": {
        "id": "xzSxANe0BVSU"
      },
      "outputs": [],
      "source": [
        "d = np.c_[a, b, b]\n",
        "print(d)"
      ]
    },
    {
      "cell_type": "code",
      "execution_count": null,
      "metadata": {
        "id": "Afms2OonBbeX"
      },
      "outputs": [],
      "source": [
        "d = np.concatenate([a, b, b], axis=1)\n",
        "d"
      ]
    },
    {
      "cell_type": "markdown",
      "metadata": {
        "id": "XJnXwWQ7CWQK"
      },
      "source": [
        "# 演習\n",
        "\n",
        "- 3から25までステップ幅1.5で要素数15の１次元配列aを作成せよ"
      ]
    },
    {
      "cell_type": "code",
      "execution_count": null,
      "metadata": {
        "id": "KaNQF_9KBdlg"
      },
      "outputs": [],
      "source": [
        "a = np.arange(3, 25, 1.5)\n",
        "a"
      ]
    },
    {
      "cell_type": "markdown",
      "metadata": {
        "id": "IC3e_shkDSP_"
      },
      "source": [
        "- 配列aを変換し、５行３列の二次元配列bを作成せよ。"
      ]
    },
    {
      "cell_type": "code",
      "execution_count": null,
      "metadata": {
        "id": "pfhrFcNWC7z1"
      },
      "outputs": [],
      "source": [
        "b = a.reshape((5, 3))\n",
        "b"
      ]
    },
    {
      "cell_type": "markdown",
      "metadata": {
        "id": "LsEFHe-4DsMn"
      },
      "source": [
        "- 配列bから、スライシングを用いて２行目の要素を持った１次元配列cを作成せよ。"
      ]
    },
    {
      "cell_type": "code",
      "execution_count": null,
      "metadata": {
        "id": "OnLhMcQODQPO"
      },
      "outputs": [],
      "source": [
        "c = b[1, :]\n",
        "c"
      ]
    },
    {
      "cell_type": "markdown",
      "metadata": {
        "id": "YHnBIOFTEBzq"
      },
      "source": [
        "- また同様にスライシングを用いて、２行２列目から４行２列目までの要素を持った１次元配列dを作成せよ。"
      ]
    },
    {
      "cell_type": "code",
      "execution_count": null,
      "metadata": {
        "id": "2yFV-wjYD8e3"
      },
      "outputs": [],
      "source": [
        "d = b[1:4, 1]\n",
        "d"
      ]
    },
    {
      "cell_type": "markdown",
      "metadata": {
        "id": "suI7BGvpEpt4"
      },
      "source": [
        "- 配列cとdを、行方向と列方向にそれぞれ連結し、結果を確認せよ"
      ]
    },
    {
      "cell_type": "code",
      "execution_count": null,
      "metadata": {
        "id": "sKNkQyCSEyci"
      },
      "outputs": [],
      "source": [
        "np.c_[c, d]"
      ]
    },
    {
      "cell_type": "code",
      "execution_count": null,
      "metadata": {
        "id": "LirlMjktEQxw"
      },
      "outputs": [],
      "source": [
        "np.r_[c, d]"
      ]
    },
    {
      "cell_type": "markdown",
      "metadata": {
        "id": "IX3knKYxIeKe"
      },
      "source": [
        "# 配列の演算\n",
        "\n",
        "## 集計関数"
      ]
    },
    {
      "cell_type": "code",
      "execution_count": null,
      "metadata": {
        "id": "vdkGm3MhE0YW"
      },
      "outputs": [],
      "source": [
        "a = np.arange(5.0)\n",
        "a"
      ]
    },
    {
      "cell_type": "code",
      "execution_count": null,
      "metadata": {
        "id": "rQZEnJPIIizA"
      },
      "outputs": [],
      "source": [
        "a.sum()"
      ]
    },
    {
      "cell_type": "code",
      "execution_count": null,
      "metadata": {
        "id": "S3OhaMBSIj1U"
      },
      "outputs": [],
      "source": [
        "a.mean()"
      ]
    },
    {
      "cell_type": "code",
      "execution_count": null,
      "metadata": {
        "id": "k6L9NYICIkyA"
      },
      "outputs": [],
      "source": [
        "a.max()"
      ]
    },
    {
      "cell_type": "code",
      "execution_count": null,
      "metadata": {
        "id": "ubv8j0nyImIj"
      },
      "outputs": [],
      "source": [
        "a.min()"
      ]
    },
    {
      "cell_type": "markdown",
      "metadata": {
        "id": "SQDce1VBLmp8"
      },
      "source": [
        "## 並び替え"
      ]
    },
    {
      "cell_type": "code",
      "execution_count": null,
      "metadata": {
        "id": "t5k0TTGyIm_k"
      },
      "outputs": [],
      "source": [
        "a = np.array([3, 5, 1, 4, 2])\n",
        "a"
      ]
    },
    {
      "cell_type": "code",
      "execution_count": null,
      "metadata": {
        "id": "nLFYYu-3IsVK"
      },
      "outputs": [],
      "source": [
        "a.sort()\n",
        "a"
      ]
    },
    {
      "cell_type": "code",
      "execution_count": null,
      "metadata": {
        "id": "DfGBbJ4mItS-"
      },
      "outputs": [],
      "source": [
        "a = np.array([3, 5, 1, 4, 2])\n",
        "a"
      ]
    },
    {
      "cell_type": "code",
      "execution_count": null,
      "metadata": {
        "id": "2LyMcoQyIxdO"
      },
      "outputs": [],
      "source": [
        "a[::-1].sort()\n",
        "a"
      ]
    },
    {
      "cell_type": "markdown",
      "metadata": {
        "id": "GrVyqszWLto6"
      },
      "source": [
        "# ２次元配列の演算"
      ]
    },
    {
      "cell_type": "code",
      "execution_count": null,
      "metadata": {
        "id": "oBgepAdHI5H7"
      },
      "outputs": [],
      "source": [
        "a = np.arange(9.0).reshape(3, 3)\n",
        "a"
      ]
    },
    {
      "cell_type": "code",
      "execution_count": null,
      "metadata": {
        "id": "D6-v_LOJJB8O"
      },
      "outputs": [],
      "source": [
        "a.sum()"
      ]
    },
    {
      "cell_type": "code",
      "execution_count": null,
      "metadata": {
        "id": "biJnZbk6JDQa"
      },
      "outputs": [],
      "source": [
        "a.sum(axis=0)"
      ]
    },
    {
      "cell_type": "code",
      "execution_count": null,
      "metadata": {
        "id": "fIERV7xCJEwZ"
      },
      "outputs": [],
      "source": [
        "a.sum(axis=1)"
      ]
    },
    {
      "cell_type": "code",
      "execution_count": null,
      "metadata": {
        "id": "4_FYPzGrJGdB"
      },
      "outputs": [],
      "source": [
        "a.mean()"
      ]
    },
    {
      "cell_type": "code",
      "execution_count": null,
      "metadata": {
        "id": "2MrDB28LJKhc"
      },
      "outputs": [],
      "source": [
        "a.mean(axis=0)"
      ]
    },
    {
      "cell_type": "code",
      "execution_count": null,
      "metadata": {
        "id": "8O-KCXDRJMb6"
      },
      "outputs": [],
      "source": [
        "a.mean(axis=1)"
      ]
    },
    {
      "cell_type": "code",
      "execution_count": null,
      "metadata": {
        "id": "d4efl59EJN63"
      },
      "outputs": [],
      "source": [
        "a = np.arange(2.0, 6.0).reshape(2, 2)\n",
        "a"
      ]
    },
    {
      "cell_type": "code",
      "execution_count": null,
      "metadata": {
        "id": "cnJTD-UgKKCG"
      },
      "outputs": [],
      "source": [
        "np.exp(a)"
      ]
    },
    {
      "cell_type": "code",
      "execution_count": null,
      "metadata": {
        "id": "9oeTtcvcKT5Y"
      },
      "outputs": [],
      "source": [
        "np.log(a)"
      ]
    },
    {
      "cell_type": "code",
      "execution_count": null,
      "metadata": {
        "id": "wBT4R8OSKVDA"
      },
      "outputs": [],
      "source": [
        "np.sqrt(a)"
      ]
    },
    {
      "cell_type": "code",
      "execution_count": null,
      "metadata": {
        "id": "FX3YPB5qKWJT"
      },
      "outputs": [],
      "source": [
        "a + 3"
      ]
    },
    {
      "cell_type": "code",
      "execution_count": null,
      "metadata": {
        "id": "rI0RtBDFKYoi"
      },
      "outputs": [],
      "source": [
        "a * 3"
      ]
    },
    {
      "cell_type": "code",
      "execution_count": null,
      "metadata": {
        "id": "rtu_WS0hKZpo"
      },
      "outputs": [],
      "source": [
        "a >= 3"
      ]
    },
    {
      "cell_type": "markdown",
      "metadata": {
        "id": "9QSmvAzhL7bN"
      },
      "source": [
        "# ブール演算"
      ]
    },
    {
      "cell_type": "code",
      "execution_count": null,
      "metadata": {
        "id": "hZ-uDUfbKa2G"
      },
      "outputs": [],
      "source": [
        "a = np.arange(2.0, 6.0)\n",
        "a"
      ]
    },
    {
      "cell_type": "code",
      "execution_count": null,
      "metadata": {
        "id": "dSfAExHlKhqa"
      },
      "outputs": [],
      "source": [
        "b = np.array([False, True, True, False])\n",
        "b"
      ]
    },
    {
      "cell_type": "code",
      "execution_count": null,
      "metadata": {
        "id": "a1PENNR2Klj1"
      },
      "outputs": [],
      "source": [
        "a[b]"
      ]
    },
    {
      "cell_type": "code",
      "execution_count": null,
      "metadata": {
        "id": "YyBifGVqKmVh"
      },
      "outputs": [],
      "source": [
        "a = np.arange(4.0).reshape(2, 2)\n",
        "a"
      ]
    },
    {
      "cell_type": "code",
      "execution_count": null,
      "metadata": {
        "id": "0DxaFsTfKrok"
      },
      "outputs": [],
      "source": [
        "b = np.array([[False, True], [True, False]])\n",
        "b"
      ]
    },
    {
      "cell_type": "code",
      "execution_count": null,
      "metadata": {
        "id": "7ICCXniMKyCy"
      },
      "outputs": [],
      "source": [
        "a[b]"
      ]
    },
    {
      "cell_type": "code",
      "execution_count": null,
      "metadata": {
        "id": "4mfJ80a7KyzL"
      },
      "outputs": [],
      "source": [
        "a = np.arange(10.0)\n",
        "a"
      ]
    },
    {
      "cell_type": "code",
      "execution_count": null,
      "metadata": {
        "id": "7GvwSJJdK3xu"
      },
      "outputs": [],
      "source": [
        "a > 5"
      ]
    },
    {
      "cell_type": "code",
      "execution_count": null,
      "metadata": {
        "id": "w_QBOLW3K46u"
      },
      "outputs": [],
      "source": [
        "a[a > 5]"
      ]
    },
    {
      "cell_type": "code",
      "execution_count": null,
      "metadata": {
        "id": "Gq1d3W5HK6gc"
      },
      "outputs": [],
      "source": [
        "a[(a >= 3) & (a < 7)]"
      ]
    },
    {
      "cell_type": "code",
      "execution_count": null,
      "metadata": {
        "id": "205S6x4aLQpJ"
      },
      "outputs": [],
      "source": [
        "a[(a <= 1) | (a > 7)]"
      ]
    },
    {
      "cell_type": "code",
      "execution_count": null,
      "metadata": {
        "id": "tHmjyPldLUOc"
      },
      "outputs": [],
      "source": [
        "a[a % 3 != 0]"
      ]
    },
    {
      "cell_type": "markdown",
      "metadata": {
        "id": "9llE2mE2La1M"
      },
      "source": [
        "# 演習\n",
        "\n",
        "- $\\begin{pmatrix}\n",
        "25 & 22 & 19 \\\\ 16 & 13 & 10 \\\\ 7 & 4 & 1\n",
        "\\end{pmatrix}$ を配列 a として定義せよ。"
      ]
    },
    {
      "cell_type": "code",
      "execution_count": null,
      "metadata": {
        "id": "Qk4V0_IzLXBC"
      },
      "outputs": [],
      "source": [
        "a = np.array([[25, 22, 19], [16, 13, 10], [7, 4, 1]])\n",
        "a"
      ]
    },
    {
      "cell_type": "markdown",
      "metadata": {
        "id": "Gyt_mHnHMu99"
      },
      "source": [
        "- 配列aの各行と各列の和をそれぞれ求めよ。"
      ]
    },
    {
      "cell_type": "code",
      "execution_count": null,
      "metadata": {
        "id": "2mOaC25JMn9-"
      },
      "outputs": [],
      "source": [
        "a.sum(axis=1)"
      ]
    },
    {
      "cell_type": "code",
      "execution_count": null,
      "metadata": {
        "id": "ukVFAfKwMtPW"
      },
      "outputs": [],
      "source": [
        "a.sum(axis=0)"
      ]
    },
    {
      "cell_type": "markdown",
      "metadata": {
        "id": "TfjnnYRAM8WY"
      },
      "source": [
        "- ブール値を利用して、配列aから偶数の値のみを取り出せ。"
      ]
    },
    {
      "cell_type": "code",
      "execution_count": null,
      "metadata": {
        "id": "7GP9CUn3M3_q"
      },
      "outputs": [],
      "source": [
        "a[a % 2 == 0]"
      ]
    },
    {
      "cell_type": "markdown",
      "metadata": {
        "id": "UE2d_EivRp00"
      },
      "source": [
        "# 配列同士の演算"
      ]
    },
    {
      "cell_type": "code",
      "execution_count": null,
      "metadata": {
        "id": "HQTrBQWpNEVN"
      },
      "outputs": [],
      "source": [
        "a = np.arange(4)\n",
        "a"
      ]
    },
    {
      "cell_type": "code",
      "execution_count": null,
      "metadata": {
        "id": "OtWv1JqIRsvg"
      },
      "outputs": [],
      "source": [
        "b = np.arange(4, 8)\n",
        "b"
      ]
    },
    {
      "cell_type": "code",
      "execution_count": null,
      "metadata": {
        "id": "hF5sHbPBRvur"
      },
      "outputs": [],
      "source": [
        "a + b"
      ]
    },
    {
      "cell_type": "code",
      "execution_count": null,
      "metadata": {
        "id": "xUgs9KgcRxAb"
      },
      "outputs": [],
      "source": [
        "a - b"
      ]
    },
    {
      "cell_type": "code",
      "execution_count": null,
      "metadata": {
        "id": "IL8l0MV2RyRg"
      },
      "outputs": [],
      "source": [
        "a * b"
      ]
    },
    {
      "cell_type": "code",
      "execution_count": null,
      "metadata": {
        "id": "Uhs612ntRzv-"
      },
      "outputs": [],
      "source": [
        "np.dot(a, b)"
      ]
    },
    {
      "cell_type": "code",
      "execution_count": null,
      "metadata": {
        "id": "L8cIzSUNR2Di"
      },
      "outputs": [],
      "source": [
        "(a * b).sum()"
      ]
    },
    {
      "cell_type": "markdown",
      "metadata": {
        "id": "n3peaUiZSLzF"
      },
      "source": [
        "# 配列のコピー"
      ]
    },
    {
      "cell_type": "code",
      "execution_count": null,
      "metadata": {
        "id": "ANRm4O4sR46q"
      },
      "outputs": [],
      "source": [
        "a = np.array([1, 2, 3])\n",
        "a"
      ]
    },
    {
      "cell_type": "code",
      "execution_count": null,
      "metadata": {
        "id": "xv-wvWA9R_vv"
      },
      "outputs": [],
      "source": [
        "b = a\n",
        "a[0] = -1"
      ]
    },
    {
      "cell_type": "code",
      "execution_count": null,
      "metadata": {
        "id": "ZEuAD-t8SDj6"
      },
      "outputs": [],
      "source": [
        "a"
      ]
    },
    {
      "cell_type": "code",
      "execution_count": null,
      "metadata": {
        "id": "eWPRn2jzSEVx"
      },
      "outputs": [],
      "source": [
        "b"
      ]
    },
    {
      "cell_type": "code",
      "execution_count": null,
      "metadata": {
        "id": "vwg46whOSGc9"
      },
      "outputs": [],
      "source": [
        "a = np.array([1, 2, 3])\n",
        "a"
      ]
    },
    {
      "cell_type": "code",
      "execution_count": null,
      "metadata": {
        "id": "N3hMcYHNSSoV"
      },
      "outputs": [],
      "source": [
        "b = a[:]\n",
        "b[0] = -1"
      ]
    },
    {
      "cell_type": "code",
      "execution_count": null,
      "metadata": {
        "id": "uKzxpw14STo5"
      },
      "outputs": [],
      "source": [
        "a"
      ]
    },
    {
      "cell_type": "code",
      "execution_count": null,
      "metadata": {
        "id": "wn7O08emSWBF"
      },
      "outputs": [],
      "source": [
        "b"
      ]
    },
    {
      "cell_type": "code",
      "execution_count": null,
      "metadata": {
        "id": "dqim07keSWoJ"
      },
      "outputs": [],
      "source": [
        "a = np.array([1, 2, 3])\n",
        "b = a\n",
        "print(id(a))\n",
        "print(id(b))"
      ]
    },
    {
      "cell_type": "code",
      "execution_count": null,
      "metadata": {
        "id": "sfC-ySExSjD3"
      },
      "outputs": [],
      "source": [
        "a = np.array([1, 2, 3])\n",
        "b = a[:]\n",
        "print(id(a))\n",
        "print(id(b))"
      ]
    },
    {
      "cell_type": "code",
      "execution_count": null,
      "metadata": {
        "id": "PTGgqIlbSm9x"
      },
      "outputs": [],
      "source": [
        "a = np.array([1, 2, 3])\n",
        "a"
      ]
    },
    {
      "cell_type": "code",
      "execution_count": null,
      "metadata": {
        "id": "WmS1HSaxSuMZ"
      },
      "outputs": [],
      "source": [
        "b = a.copy()\n",
        "a[0] = -1"
      ]
    },
    {
      "cell_type": "code",
      "execution_count": null,
      "metadata": {
        "id": "Ze_FqfzySxiO"
      },
      "outputs": [],
      "source": [
        "a"
      ]
    },
    {
      "cell_type": "code",
      "execution_count": null,
      "metadata": {
        "id": "dmkugTJPSyFZ"
      },
      "outputs": [],
      "source": [
        "b"
      ]
    },
    {
      "cell_type": "markdown",
      "metadata": {
        "id": "oxy9mAtInuM4"
      },
      "source": [
        "# 内積"
      ]
    },
    {
      "cell_type": "code",
      "execution_count": null,
      "metadata": {
        "id": "z5IaKLtTSynB"
      },
      "outputs": [],
      "source": [
        "a = np.arange(4).reshape(2, 2)\n",
        "a"
      ]
    },
    {
      "cell_type": "code",
      "execution_count": null,
      "metadata": {
        "id": "DsoEgkWSn1hK"
      },
      "outputs": [],
      "source": [
        "b = np.arange(2, 6).reshape(2, 2)\n",
        "b"
      ]
    },
    {
      "cell_type": "code",
      "execution_count": null,
      "metadata": {
        "id": "Mj9-ansAn5GS"
      },
      "outputs": [],
      "source": [
        "a * b"
      ]
    },
    {
      "cell_type": "code",
      "execution_count": null,
      "metadata": {
        "id": "jrIQqlyHn6p0"
      },
      "outputs": [],
      "source": [
        "a @ b"
      ]
    },
    {
      "cell_type": "code",
      "execution_count": null,
      "metadata": {
        "id": "bs-Tq8wOn-Ud"
      },
      "outputs": [],
      "source": [
        "a.dot(b)"
      ]
    },
    {
      "cell_type": "code",
      "execution_count": null,
      "metadata": {
        "id": "-qLn3Vstn8bq"
      },
      "outputs": [],
      "source": [
        "np.dot(a, b)"
      ]
    },
    {
      "cell_type": "markdown",
      "metadata": {
        "id": "vx_gZS3UoJI9"
      },
      "source": [
        "# ブロードキャスト"
      ]
    },
    {
      "cell_type": "code",
      "execution_count": null,
      "metadata": {
        "id": "rT5A43QXoAsi"
      },
      "outputs": [],
      "source": [
        "a = np.arange(12.0).reshape(4, 3)\n",
        "a"
      ]
    },
    {
      "cell_type": "code",
      "execution_count": null,
      "metadata": {
        "id": "6mVe3V3Yo-nL"
      },
      "outputs": [],
      "source": [
        "b = np.arange(4.0).reshape(4, -1)\n",
        "b"
      ]
    },
    {
      "cell_type": "code",
      "execution_count": null,
      "metadata": {
        "id": "dLfz9zB6pDbh"
      },
      "outputs": [],
      "source": [
        "a + b"
      ]
    },
    {
      "cell_type": "code",
      "execution_count": null,
      "metadata": {
        "id": "UoebsDRDpE3s"
      },
      "outputs": [],
      "source": [
        "a * b"
      ]
    },
    {
      "cell_type": "code",
      "execution_count": null,
      "metadata": {
        "id": "PdA2cH30pL0u"
      },
      "outputs": [],
      "source": [
        "c = np.arange(3.0).reshape(-1, 3)\n",
        "c"
      ]
    },
    {
      "cell_type": "code",
      "execution_count": null,
      "metadata": {
        "id": "BC_AxSfLpaNA"
      },
      "outputs": [],
      "source": [
        "a + c"
      ]
    },
    {
      "cell_type": "code",
      "execution_count": null,
      "metadata": {
        "id": "P8ZGuiripbBC"
      },
      "outputs": [],
      "source": [
        "a * c"
      ]
    },
    {
      "cell_type": "markdown",
      "metadata": {
        "id": "AxUionBYpmuj"
      },
      "source": [
        "# 逆行列"
      ]
    },
    {
      "cell_type": "code",
      "execution_count": null,
      "metadata": {
        "id": "xqIS2Gy7pibv"
      },
      "outputs": [],
      "source": [
        "a = np.array([[3, 1, 1], [1, 2, 1], [0, -1, 1]])\n",
        "a"
      ]
    },
    {
      "cell_type": "code",
      "execution_count": null,
      "metadata": {
        "id": "_x88hHsOpuIN"
      },
      "outputs": [],
      "source": [
        "np.linalg.inv(a)"
      ]
    },
    {
      "cell_type": "markdown",
      "metadata": {
        "id": "qp9GIoT7p1Cc"
      },
      "source": [
        "# 連立一次方程式"
      ]
    },
    {
      "cell_type": "code",
      "execution_count": null,
      "metadata": {
        "id": "AIh0n_MtqHAt"
      },
      "outputs": [],
      "source": [
        "a = np.array([[3, 1, 1], [1, 2, 1], [0, -1, 1]])\n",
        "a"
      ]
    },
    {
      "cell_type": "code",
      "execution_count": null,
      "metadata": {
        "id": "c2WNHWtSqIyQ"
      },
      "outputs": [],
      "source": [
        "b = np.array([1, 2, 3])\n",
        "b"
      ]
    },
    {
      "cell_type": "code",
      "execution_count": null,
      "metadata": {
        "id": "5YxVWgyxpyDC"
      },
      "outputs": [],
      "source": [
        "np.linalg.solve(a, b)"
      ]
    },
    {
      "cell_type": "markdown",
      "metadata": {
        "id": "rrtJFfTOqvAV"
      },
      "source": [
        "# 演習\n",
        "\n",
        "- $\\begin{pmatrix}\n",
        "1 & 2 \\\\ 3 & 4\n",
        "\\end{pmatrix}$ の逆行列をモジュールnumpyを用いて求めよ"
      ]
    },
    {
      "cell_type": "code",
      "execution_count": null,
      "metadata": {
        "id": "KvAdEYLZpwGO"
      },
      "outputs": [],
      "source": [
        "np.linalg.inv(np.array([[1, 2], [3, 4]]))"
      ]
    },
    {
      "cell_type": "markdown",
      "metadata": {
        "id": "xmiNNJ2XsWrs"
      },
      "source": [
        "- 以下の連立方程式をモジュールnumpyを用いて解け\n",
        "\n",
        "$$\n",
        "\\left\\{\n",
        "\\begin{align}\n",
        "2 x_1 + x_2 + 3 x_3 = 1 \\\\\n",
        "- x_1 + 2 x_2 + 5 x_3 = -2 \\\\\n",
        "4 x_1 - 3 x_2 - 2 x_3 = 0\n",
        "\\end{align}\n",
        "\\right.\n",
        "$$"
      ]
    },
    {
      "cell_type": "code",
      "execution_count": null,
      "metadata": {
        "id": "JN40ev6irDc5"
      },
      "outputs": [],
      "source": [
        "a = np.array([[2, 1, 3], [-1, 2, 5], [4, -3, -2]])\n",
        "b = np.array([1, -2, 0])\n",
        "np.linalg.solve(a, b)"
      ]
    },
    {
      "cell_type": "code",
      "execution_count": null,
      "metadata": {
        "id": "DWWlsiiktGge"
      },
      "outputs": [],
      "source": []
    }
  ],
  "metadata": {
    "colab": {
      "provenance": [],
      "include_colab_link": true
    },
    "kernelspec": {
      "display_name": "Python 3 (ipykernel)",
      "language": "python",
      "name": "python3"
    },
    "language_info": {
      "codemirror_mode": {
        "name": "ipython",
        "version": 3
      },
      "file_extension": ".py",
      "mimetype": "text/x-python",
      "name": "python",
      "nbconvert_exporter": "python",
      "pygments_lexer": "ipython3",
      "version": "3.10.6"
    }
  },
  "nbformat": 4,
  "nbformat_minor": 0
}