{
  "cells": [
    {
      "cell_type": "markdown",
      "metadata": {
        "id": "view-in-github",
        "colab_type": "text"
      },
      "source": [
        "<a href=\"https://colab.research.google.com/github/maskot1977/tmd2023py/blob/main/notebooks/hoshu_3_2.ipynb\" target=\"_parent\"><img src=\"https://colab.research.google.com/assets/colab-badge.svg\" alt=\"Open In Colab\"/></a>"
      ]
    },
    {
      "cell_type": "markdown",
      "metadata": {
        "id": "TmV3MqOKn5V0"
      },
      "source": [
        "# プログラム入門の補習 第３回（その２）\n",
        "\n",
        "小寺正明　東京医科歯科大学 統合教育機構 客員准教授, （株）Preferred Networks 研究員\n",
        "\n",
        "# タイムスケジュール\n",
        "\n",
        "- 18時～19時30分 実習タイム（実習タイム中も随時質問OKです）\n",
        "- 19時40分～ 質問タイム\n",
        "\n",
        "# 実施日程・講師\n",
        "\n",
        "- 6/10（第２回の内容）, 6/17（第３・４回の内容） - 長谷武志 先生\n",
        "- 6/24（第５・６回の内容）, 7/1（第７・８回の内容） - 小寺\n",
        "- 7/8（第９・１０回の内容）, 7/15（総合演習） - 石田智 先生\n",
        "\n",
        "# 本日の内容\n",
        "\n",
        "- 下川先生のプログラミング入門の第５・６回の資料から抜粋し一部改変して作成しております。\n",
        "\n",
        "\n",
        "# クラス"
      ]
    },
    {
      "cell_type": "code",
      "execution_count": null,
      "metadata": {
        "id": "OP2BsEFN5Cwr"
      },
      "outputs": [],
      "source": [
        "class Print:\n",
        "    def print_me(self):\n",
        "        print(\"I'm\", self.x, self.y)"
      ]
    },
    {
      "cell_type": "code",
      "execution_count": null,
      "metadata": {
        "id": "J_q_XwFS7YZ8"
      },
      "outputs": [],
      "source": [
        "p1 = Print()"
      ]
    },
    {
      "cell_type": "code",
      "execution_count": null,
      "metadata": {
        "id": "XaGobxfZ7sTe"
      },
      "outputs": [],
      "source": [
        "p1.print_me()"
      ]
    },
    {
      "cell_type": "code",
      "execution_count": null,
      "metadata": {
        "id": "OXYzsjtJ7u7e"
      },
      "outputs": [],
      "source": [
        "p1.x = 33\n",
        "p1.y = 4\n",
        "p1.z = 29"
      ]
    },
    {
      "cell_type": "code",
      "execution_count": null,
      "metadata": {
        "id": "1Z5Zxort7212"
      },
      "outputs": [],
      "source": [
        "p1.print_me()"
      ]
    },
    {
      "cell_type": "code",
      "execution_count": null,
      "metadata": {
        "id": "YDNzDJBx74hw"
      },
      "outputs": [],
      "source": [
        "p2 = Print()\n",
        "\n",
        "p2.x = \"Mas\"\n",
        "p2.y = \"Kot\"\n",
        "\n",
        "p2.print_me()"
      ]
    },
    {
      "cell_type": "markdown",
      "metadata": {
        "id": "R5Nw239p9Fne"
      },
      "source": [
        "# 演習\n",
        "\n",
        "- クラス Print を利用して、インスタンス name を作成せよ。作成したインスタンスの変数として、xに自身の名前、yに自身の苗字を文字列として格納せよ。"
      ]
    },
    {
      "cell_type": "code",
      "execution_count": null,
      "metadata": {
        "id": "JEN-mrK78onR"
      },
      "outputs": [],
      "source": [
        "name = Print()\n",
        "name.x = \"Mas\"\n",
        "name.y = \"Kot\""
      ]
    },
    {
      "cell_type": "markdown",
      "metadata": {
        "id": "rkK1LHjM9Y0Z"
      },
      "source": [
        "- インスタンス name のメソッドとして print_me() を呼び出し、表示を確認せよ。"
      ]
    },
    {
      "cell_type": "code",
      "execution_count": null,
      "metadata": {
        "id": "Cp-8-t9s9YYg"
      },
      "outputs": [],
      "source": [
        "name.print_me()"
      ]
    },
    {
      "cell_type": "markdown",
      "metadata": {
        "id": "NH3dZuX_9-mz"
      },
      "source": [
        "- クラス Print を修正し、メソッド print_you を実行することで、自身の名前の表示に加え、相手の名前を尋ねて得られた名前を表示できるように定義せよ。"
      ]
    },
    {
      "cell_type": "code",
      "execution_count": null,
      "metadata": {
        "id": "qRkxuAmQ9XMR"
      },
      "outputs": [],
      "source": [
        "class Print:\n",
        "    def print_me(self):\n",
        "        print(\"I'm\", self.x, self.y)\n",
        "\n",
        "    def print_you(self):\n",
        "        self.print_me()\n",
        "        self.z = input(\"What's your name? \")\n",
        "        print(\"Hello,\", self.z)"
      ]
    },
    {
      "cell_type": "code",
      "execution_count": null,
      "metadata": {
        "id": "yILZaJ99-g5c"
      },
      "outputs": [],
      "source": [
        "p2 = Print()\n",
        "p2.x = \"Mas\"\n",
        "p2.y = \"Kot\""
      ]
    },
    {
      "cell_type": "code",
      "execution_count": null,
      "metadata": {
        "id": "xqClY7GX-oBl"
      },
      "outputs": [],
      "source": [
        "p2.print_you()"
      ]
    },
    {
      "cell_type": "markdown",
      "metadata": {
        "id": "mtEdGx2P_q4O"
      },
      "source": [
        "# 初期メソッドの利用例"
      ]
    },
    {
      "cell_type": "code",
      "execution_count": null,
      "metadata": {
        "id": "IUA4CovK-27F"
      },
      "outputs": [],
      "source": [
        "class Print_2:\n",
        "    def __init__(self, x, y):\n",
        "        self.x = x\n",
        "        self.y = y\n",
        "\n",
        "    def print_me(self):\n",
        "        print(\"I'm\", self.x, self.y)"
      ]
    },
    {
      "cell_type": "code",
      "execution_count": null,
      "metadata": {
        "id": "Hw2acfx1__wA"
      },
      "outputs": [],
      "source": [
        "p3 = Print_2()"
      ]
    },
    {
      "cell_type": "code",
      "execution_count": null,
      "metadata": {
        "id": "5A4FkJTDAgpJ"
      },
      "outputs": [],
      "source": [
        "p3 = Print_2(33, 4)"
      ]
    },
    {
      "cell_type": "code",
      "execution_count": null,
      "metadata": {
        "id": "rsbNU0apAi5k"
      },
      "outputs": [],
      "source": [
        "p3.print_me()"
      ]
    },
    {
      "cell_type": "code",
      "execution_count": null,
      "metadata": {
        "id": "Z9fxbBmOAktQ"
      },
      "outputs": [],
      "source": [
        "p4 = Print_2(y = \"Kot\", x = \"Mas\")"
      ]
    },
    {
      "cell_type": "code",
      "execution_count": null,
      "metadata": {
        "id": "41CU8quQA_xP"
      },
      "outputs": [],
      "source": [
        "p4.print_me()"
      ]
    },
    {
      "cell_type": "markdown",
      "metadata": {
        "id": "hxMQywMZCB1_"
      },
      "source": [
        "# クラス定義の応用例２\n"
      ]
    },
    {
      "cell_type": "code",
      "execution_count": null,
      "metadata": {
        "id": "wo8sor78BBmY"
      },
      "outputs": [],
      "source": [
        "import math\n",
        "\n",
        "class Point:\n",
        "    def __init__(self, x, y):\n",
        "        self.x = x\n",
        "        self.y = y\n",
        "\n",
        "    def distance(self, p):\n",
        "        return math.sqrt((self.x - p.x)**2 + (self.y - p.y)**2)\n",
        "\n",
        "    def midpoint(self, p):\n",
        "        return Point((self.x + p.x) / 2, (self.y + p.y) /2)"
      ]
    },
    {
      "cell_type": "code",
      "execution_count": null,
      "metadata": {
        "id": "aNsECcEqCYbN"
      },
      "outputs": [],
      "source": [
        "p1 = Point(2, 5)\n",
        "p2 = Point(1, 4)"
      ]
    },
    {
      "cell_type": "code",
      "execution_count": null,
      "metadata": {
        "id": "Ri7-1G76DEBB"
      },
      "outputs": [],
      "source": [
        "p1.distance(p2)"
      ]
    },
    {
      "cell_type": "code",
      "execution_count": null,
      "metadata": {
        "id": "m5vNmtwVDFVQ"
      },
      "outputs": [],
      "source": [
        "p2.distance(p1)"
      ]
    },
    {
      "cell_type": "code",
      "execution_count": null,
      "metadata": {
        "id": "n_f_Km2PDHKE"
      },
      "outputs": [],
      "source": [
        "mid_p1_p2 = p1.midpoint(p2)"
      ]
    },
    {
      "cell_type": "code",
      "execution_count": null,
      "metadata": {
        "id": "CNfydyflDQY7"
      },
      "outputs": [],
      "source": [
        "mid_p1_p2.x, mid_p1_p2.y"
      ]
    },
    {
      "cell_type": "markdown",
      "metadata": {
        "id": "kTTQkrffFgGK"
      },
      "source": [
        "# 演習\n",
        "\n",
        "- クラス Point を修正し、新たに２次元空間上の２点間のマンハッタン距離を求めるメソッド mdistance を追加せよ。"
      ]
    },
    {
      "cell_type": "code",
      "execution_count": null,
      "metadata": {
        "id": "5_ow1uigDSgP"
      },
      "outputs": [],
      "source": [
        "from IPython.lib.display import YouTubeVideo\n",
        "import math\n",
        "\n",
        "class Point:\n",
        "    def __init__(self, x, y):\n",
        "        self.x = x\n",
        "        self.y = y\n",
        "\n",
        "    def distance(self, p):\n",
        "        return math.sqrt((self.x - p.x)**2 + (self.y - p.y)**2)\n",
        "\n",
        "    def midpoint(self, p):\n",
        "        return Point((self.x + p.x) / 2, (self.y + p.y) /2)\n",
        "\n",
        "    def mdistance(self, p):\n",
        "        return abs(self.x - p.x) + abs(self.y - p.y)"
      ]
    },
    {
      "cell_type": "markdown",
      "metadata": {
        "id": "OKEJ60CnF3Cz"
      },
      "source": [
        "- 得られたメソッドを利用し、点 (1, 3) と (3, 6) 間のマンハッタン距離を求めよ。"
      ]
    },
    {
      "cell_type": "code",
      "execution_count": null,
      "metadata": {
        "id": "pVc5gLhpF0wW"
      },
      "outputs": [],
      "source": [
        "p1 = Point(1, 3)\n",
        "p2 = Point(3, 6)\n",
        "p1.mdistance(p2)"
      ]
    },
    {
      "cell_type": "markdown",
      "metadata": {
        "id": "Uydi2ENhGJFJ"
      },
      "source": [
        "# モジュール"
      ]
    },
    {
      "cell_type": "code",
      "execution_count": null,
      "metadata": {
        "id": "ZHv7GqJeGFvJ"
      },
      "outputs": [],
      "source": [
        "import math"
      ]
    },
    {
      "cell_type": "code",
      "execution_count": null,
      "metadata": {
        "id": "md3IbIJGGm0_"
      },
      "outputs": [],
      "source": [
        "math.log(2)"
      ]
    },
    {
      "cell_type": "code",
      "execution_count": null,
      "metadata": {
        "id": "yG25TS7kGpJS"
      },
      "outputs": [],
      "source": [
        "import datetime\n",
        "\n",
        "datetime.datetime.now()"
      ]
    },
    {
      "cell_type": "code",
      "execution_count": null,
      "metadata": {
        "id": "v66XG4A7GtBE"
      },
      "outputs": [],
      "source": [
        "from datetime import datetime\n",
        "\n",
        "datetime.now()"
      ]
    },
    {
      "cell_type": "code",
      "execution_count": null,
      "metadata": {
        "id": "-YnoLC1MGzX_"
      },
      "outputs": [],
      "source": [
        "import datetime as dt\n",
        "\n",
        "dt.datetime.now()"
      ]
    },
    {
      "cell_type": "markdown",
      "metadata": {
        "id": "0RmtCqsYHs5b"
      },
      "source": [
        "# 演習\n",
        "\n",
        "- モジュール numpy を np という名前で読み込み、$sin \\pi$ を計算せよ。"
      ]
    },
    {
      "cell_type": "code",
      "execution_count": null,
      "metadata": {
        "id": "y1RaWNVnG6J3"
      },
      "outputs": [],
      "source": [
        "import numpy as np\n",
        "\n",
        "np.sin(np.pi)"
      ]
    },
    {
      "cell_type": "markdown",
      "metadata": {
        "id": "TzhphPPdH8Q-"
      },
      "source": [
        "- 前回の講義で作成したモジュール ex_A_1_4b から関数 qeq を指定して読み込み、 $-x^2 + x + 2 = 0$ の解を求めよ。"
      ]
    },
    {
      "cell_type": "code",
      "execution_count": null,
      "metadata": {
        "id": "n0T4JCtvH7dJ"
      },
      "outputs": [],
      "source": [
        "!wget https://raw.githubusercontent.com/maskot1977/tmd2023py/main/util/ex_A_1_4.py"
      ]
    },
    {
      "cell_type": "code",
      "execution_count": null,
      "metadata": {
        "id": "Z7h8kEPxH47T"
      },
      "outputs": [],
      "source": [
        "from ex_A_1_4 import qeq"
      ]
    },
    {
      "cell_type": "code",
      "execution_count": null,
      "metadata": {
        "id": "4JRi2ILhIOQZ"
      },
      "outputs": [],
      "source": [
        "qeq(-1, 1, 2)"
      ]
    },
    {
      "cell_type": "markdown",
      "metadata": {
        "id": "MOLWLHqUJOPI"
      },
      "source": [
        "# モジュールの作成\n",
        "\n",
        "https://raw.githubusercontent.com/maskot1977/tmd2023py/main/util/mod1.py"
      ]
    },
    {
      "cell_type": "code",
      "execution_count": null,
      "metadata": {
        "id": "IkGhV0_qIQlR"
      },
      "outputs": [],
      "source": [
        "!wget https://raw.githubusercontent.com/maskot1977/tmd2023py/main/util/mod1.py"
      ]
    },
    {
      "cell_type": "code",
      "execution_count": null,
      "metadata": {
        "id": "Fs22kCVrJQmh"
      },
      "outputs": [],
      "source": [
        "import mod1"
      ]
    },
    {
      "cell_type": "code",
      "execution_count": null,
      "metadata": {
        "id": "eEo6zCQRJZiM"
      },
      "outputs": [],
      "source": [
        "mod1.name()"
      ]
    },
    {
      "cell_type": "code",
      "execution_count": null,
      "metadata": {
        "id": "GqBTB7e7JbOA"
      },
      "outputs": [],
      "source": [
        "!wget https://raw.githubusercontent.com/maskot1977/tmd2023py/main/util/mod2.py"
      ]
    },
    {
      "cell_type": "code",
      "execution_count": null,
      "metadata": {
        "id": "2kTenOuVLTKy"
      },
      "outputs": [],
      "source": [
        "import mod2"
      ]
    },
    {
      "cell_type": "code",
      "execution_count": null,
      "metadata": {
        "id": "R2qRX50bLU0k"
      },
      "outputs": [],
      "source": [
        "mod2.my_name(\"Mas\", \"Kot\")"
      ]
    },
    {
      "cell_type": "code",
      "execution_count": null,
      "metadata": {
        "id": "SpPFKp3VLXaG"
      },
      "outputs": [],
      "source": [
        "a = mod2.Point(6, 3)\n",
        "b = mod2.Point(4, 2)\n",
        "a.mdistance(b)"
      ]
    }
  ],
  "metadata": {
    "colab": {
      "provenance": [],
      "include_colab_link": true
    },
    "kernelspec": {
      "display_name": "Python 3 (ipykernel)",
      "language": "python",
      "name": "python3"
    },
    "language_info": {
      "codemirror_mode": {
        "name": "ipython",
        "version": 3
      },
      "file_extension": ".py",
      "mimetype": "text/x-python",
      "name": "python",
      "nbconvert_exporter": "python",
      "pygments_lexer": "ipython3",
      "version": "3.10.6"
    }
  },
  "nbformat": 4,
  "nbformat_minor": 0
}