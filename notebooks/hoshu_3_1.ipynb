{
  "cells": [
    {
      "cell_type": "markdown",
      "metadata": {
        "id": "view-in-github",
        "colab_type": "text"
      },
      "source": [
        "<a href=\"https://colab.research.google.com/github/maskot1977/tmd2023py/blob/main/notebooks/hoshu_3_1.ipynb\" target=\"_parent\"><img src=\"https://colab.research.google.com/assets/colab-badge.svg\" alt=\"Open In Colab\"/></a>"
      ]
    },
    {
      "cell_type": "markdown",
      "metadata": {
        "id": "TmV3MqOKn5V0"
      },
      "source": [
        "# プログラム入門の補習 第３回（その１）\n",
        "\n",
        "小寺正明　東京医科歯科大学 統合教育機構 客員准教授, （株）Preferred Networks 研究員\n",
        "\n",
        "# タイムスケジュール\n",
        "\n",
        "- 18時～19時30分 実習タイム（実習タイム中も随時質問OKです）\n",
        "- 19時40分～ 質問タイム\n",
        "\n",
        "# 実施日程・講師\n",
        "\n",
        "- 6/10（第２回の内容）, 6/17（第３・４回の内容） - 長谷武志 先生\n",
        "- 6/24（第５・６回の内容）, 7/1（第７・８回の内容） - 小寺\n",
        "- 7/8（第９・１０回の内容）, 7/15（総合演習） - 石田智 先生\n",
        "\n",
        "# 本日の内容\n",
        "\n",
        "- 下川先生のプログラミング入門の第５・６回の資料から抜粋し一部改変して作成しております。\n",
        "\n",
        "\n",
        "### 組み込み関数の利用"
      ]
    },
    {
      "cell_type": "code",
      "execution_count": null,
      "metadata": {
        "id": "B5tXCg9Knu5O"
      },
      "outputs": [],
      "source": [
        "abs(-30) # 絶対値"
      ]
    },
    {
      "cell_type": "code",
      "execution_count": null,
      "metadata": {
        "id": "aBDRig5Co0zP"
      },
      "outputs": [],
      "source": [
        "x = abs(-30)"
      ]
    },
    {
      "cell_type": "code",
      "execution_count": null,
      "metadata": {
        "id": "5hWuBGYao4Q5"
      },
      "outputs": [],
      "source": [
        "x"
      ]
    },
    {
      "cell_type": "code",
      "execution_count": null,
      "metadata": {
        "id": "8umJrw4Eo5tI"
      },
      "outputs": [],
      "source": [
        "print(abs(-30))"
      ]
    },
    {
      "cell_type": "code",
      "execution_count": null,
      "metadata": {
        "id": "wIAwQxQCo75t"
      },
      "outputs": [],
      "source": [
        "max(2, 5, 3) # 最大値"
      ]
    },
    {
      "cell_type": "code",
      "execution_count": null,
      "metadata": {
        "id": "A7plR-MwpEQG"
      },
      "outputs": [],
      "source": [
        "max([2, 5, 3])"
      ]
    },
    {
      "cell_type": "code",
      "execution_count": null,
      "metadata": {
        "id": "WucIRdt9pGxI"
      },
      "outputs": [],
      "source": [
        "round(3.126) # 引数の整数への四捨五入"
      ]
    },
    {
      "cell_type": "code",
      "execution_count": null,
      "metadata": {
        "id": "3K2NI4fSpJJ5"
      },
      "outputs": [],
      "source": [
        "divmod(11, 3) # 引数1 / 引数2 の商と剰余"
      ]
    },
    {
      "cell_type": "code",
      "execution_count": null,
      "metadata": {
        "id": "4O7nr4YtpLOs"
      },
      "outputs": [],
      "source": [
        "len([1, 2, 3, 4]) # 引数の要素数"
      ]
    },
    {
      "cell_type": "code",
      "execution_count": null,
      "metadata": {
        "id": "K-lR7SNfp-3Z"
      },
      "outputs": [],
      "source": [
        "len(\"abd\")"
      ]
    },
    {
      "cell_type": "code",
      "execution_count": null,
      "metadata": {
        "id": "d-UQkr_7qAtg"
      },
      "outputs": [],
      "source": [
        "sorted([3, 5, 1]) # 要素を昇順に並び替える"
      ]
    },
    {
      "cell_type": "code",
      "execution_count": null,
      "metadata": {
        "id": "L1_4IOqLqEKd"
      },
      "outputs": [],
      "source": [
        "sorted([3, 5, 1], reverse=True)"
      ]
    },
    {
      "cell_type": "code",
      "execution_count": null,
      "metadata": {
        "id": "G2VA64kIqHkm"
      },
      "outputs": [],
      "source": [
        "sum([3, 5]) # 要素の総和を返す"
      ]
    },
    {
      "cell_type": "markdown",
      "metadata": {
        "id": "sSKxli7FrfXc"
      },
      "source": [
        "# 演習\n",
        "\n",
        "- 組み込み関数を利用して、初項2, 公差3 の等差数列 {$a_n$} について、$a_n$ &le; 100 となる項の値を求め、変数xに代入せよ"
      ]
    },
    {
      "cell_type": "code",
      "execution_count": null,
      "metadata": {
        "id": "H6PA-0E_s2qe"
      },
      "outputs": [],
      "source": [
        "x = []\n",
        "for a in range(2, 100, 3):\n",
        "    x.append(a)"
      ]
    },
    {
      "cell_type": "code",
      "execution_count": null,
      "metadata": {
        "id": "jJoaYQe5uSoS"
      },
      "outputs": [],
      "source": [
        "x"
      ]
    },
    {
      "cell_type": "code",
      "execution_count": null,
      "metadata": {
        "id": "dlxjydO6uUay"
      },
      "outputs": [],
      "source": [
        "x = [a for a in range(2, 100, 3)]"
      ]
    },
    {
      "cell_type": "code",
      "execution_count": null,
      "metadata": {
        "id": "CMJICxn7uY3b"
      },
      "outputs": [],
      "source": [
        "x"
      ]
    },
    {
      "cell_type": "markdown",
      "metadata": {
        "id": "CEnP2famuebb"
      },
      "source": [
        "- $a_n$ &le; 100 を満たすnの最大値を求めよ"
      ]
    },
    {
      "cell_type": "code",
      "execution_count": null,
      "metadata": {
        "id": "G3WsaW--u8NL"
      },
      "outputs": [],
      "source": [
        "n = 0\n",
        "for a in range(2, 100, 3):\n",
        "    n += 1\n",
        "\n",
        "n_max = n"
      ]
    },
    {
      "cell_type": "code",
      "execution_count": null,
      "metadata": {
        "id": "NWFB4g7vvJdH"
      },
      "outputs": [],
      "source": [
        "n_max"
      ]
    },
    {
      "cell_type": "code",
      "execution_count": null,
      "metadata": {
        "id": "i0l7IgaZqJ5g"
      },
      "outputs": [],
      "source": [
        "for n, a in enumerate(range(2, 100, 3)):\n",
        "    print(n, a)"
      ]
    },
    {
      "cell_type": "code",
      "execution_count": null,
      "metadata": {
        "id": "RYRQv3VIstnk"
      },
      "outputs": [],
      "source": [
        "n_max = n + 1"
      ]
    },
    {
      "cell_type": "code",
      "execution_count": null,
      "metadata": {
        "id": "fTeBBNYdtHqV"
      },
      "outputs": [],
      "source": [
        "n_max"
      ]
    },
    {
      "cell_type": "code",
      "execution_count": null,
      "metadata": {
        "id": "klJSCsmctN1i"
      },
      "outputs": [],
      "source": [
        "max([n + 1 for (n, a) in enumerate(range(2, 100, 3))])"
      ]
    },
    {
      "cell_type": "markdown",
      "metadata": {
        "id": "QiS_4eJpwuYS"
      },
      "source": [
        "- $a_n$ &le; 100 を満たす全ての項の和を求めよ"
      ]
    },
    {
      "cell_type": "code",
      "execution_count": null,
      "metadata": {
        "id": "3fjOOKiatqfB"
      },
      "outputs": [],
      "source": [
        "sum([a for a in range(2, 100, 3)])"
      ]
    },
    {
      "cell_type": "markdown",
      "metadata": {
        "id": "n_t2jD3vxEBL"
      },
      "source": [
        "## その他の組み込み関数"
      ]
    },
    {
      "cell_type": "code",
      "execution_count": null,
      "metadata": {
        "id": "eEuz5siGtrB-"
      },
      "outputs": [],
      "source": [
        "a = 1\n",
        "b = a"
      ]
    },
    {
      "cell_type": "code",
      "execution_count": null,
      "metadata": {
        "id": "WjWBRfjHt9Yq"
      },
      "outputs": [],
      "source": [
        "print(id(a))\n",
        "print(id(b))"
      ]
    },
    {
      "cell_type": "code",
      "execution_count": null,
      "metadata": {
        "id": "iEuJSsdvt95G"
      },
      "outputs": [],
      "source": [
        "a is b"
      ]
    },
    {
      "cell_type": "code",
      "execution_count": null,
      "metadata": {
        "id": "wHxqzoPvuCj3"
      },
      "outputs": [],
      "source": [
        "a = 2"
      ]
    },
    {
      "cell_type": "code",
      "execution_count": null,
      "metadata": {
        "id": "91LxHq_IxUOQ"
      },
      "outputs": [],
      "source": [
        "print(id(a))\n",
        "print(id(b))"
      ]
    },
    {
      "cell_type": "code",
      "execution_count": null,
      "metadata": {
        "id": "3SN980MsxVj_"
      },
      "outputs": [],
      "source": [
        "a is b"
      ]
    },
    {
      "cell_type": "code",
      "execution_count": null,
      "metadata": {
        "id": "TVfZKEtGxX5S"
      },
      "outputs": [],
      "source": [
        "input(\"君の名は。\")"
      ]
    },
    {
      "cell_type": "code",
      "execution_count": null,
      "metadata": {
        "id": "1OrB935uxmen"
      },
      "outputs": [],
      "source": [
        "int(3.52)"
      ]
    },
    {
      "cell_type": "code",
      "execution_count": null,
      "metadata": {
        "id": "VJsX_1lDxrfN"
      },
      "outputs": [],
      "source": [
        "int(\"3\")"
      ]
    },
    {
      "cell_type": "code",
      "execution_count": null,
      "metadata": {
        "id": "N7Be-x0exs7d"
      },
      "outputs": [],
      "source": [
        "type(int(\"3\"))"
      ]
    },
    {
      "cell_type": "code",
      "execution_count": null,
      "metadata": {
        "id": "QrpRTGt6xuYQ"
      },
      "outputs": [],
      "source": [
        "X = []\n",
        "for x in [-1, 2, -3, -4]:\n",
        "    X.append(abs(x))"
      ]
    },
    {
      "cell_type": "code",
      "execution_count": null,
      "metadata": {
        "id": "CP5m9BSUyB-E"
      },
      "outputs": [],
      "source": [
        "X"
      ]
    },
    {
      "cell_type": "code",
      "execution_count": null,
      "metadata": {
        "id": "I97mEuSyyDH7"
      },
      "outputs": [],
      "source": [
        "X = [abs(x) for x in [-1, 2, -3, -4]]"
      ]
    },
    {
      "cell_type": "code",
      "execution_count": null,
      "metadata": {
        "id": "Bi6-4FFSyIMX"
      },
      "outputs": [],
      "source": [
        "X"
      ]
    },
    {
      "cell_type": "code",
      "execution_count": null,
      "metadata": {
        "id": "QNL3oQYVyItR"
      },
      "outputs": [],
      "source": [
        "X = list(map(abs, [-1, 2, -3, -4]))"
      ]
    },
    {
      "cell_type": "code",
      "execution_count": null,
      "metadata": {
        "id": "hz663C-vyNVa"
      },
      "outputs": [],
      "source": [
        "X"
      ]
    },
    {
      "cell_type": "code",
      "execution_count": null,
      "metadata": {
        "id": "VSJ2qJuUyN7j"
      },
      "outputs": [],
      "source": [
        "X = []\n",
        "for x in [[1, 2], [3, 4], [5, 6]]:\n",
        "    X.append(sum(x))"
      ]
    },
    {
      "cell_type": "code",
      "execution_count": null,
      "metadata": {
        "id": "KzpHF9QHyhs7"
      },
      "outputs": [],
      "source": [
        "X"
      ]
    },
    {
      "cell_type": "code",
      "execution_count": null,
      "metadata": {
        "id": "x57JO8mKy3Ri"
      },
      "outputs": [],
      "source": [
        "X = [sum(x) for x in [[1, 2], [3, 4], [5, 6]]]"
      ]
    },
    {
      "cell_type": "code",
      "execution_count": null,
      "metadata": {
        "id": "jYbM0xA2y9aV"
      },
      "outputs": [],
      "source": [
        "X"
      ]
    },
    {
      "cell_type": "code",
      "execution_count": null,
      "metadata": {
        "id": "WjLYGuwEy94B"
      },
      "outputs": [],
      "source": [
        "X = list(map(sum, [[1, 2], [3, 4], [5, 6]]))"
      ]
    },
    {
      "cell_type": "code",
      "execution_count": null,
      "metadata": {
        "id": "Cwfr_k_nzFB_"
      },
      "outputs": [],
      "source": [
        "X"
      ]
    },
    {
      "cell_type": "markdown",
      "metadata": {
        "id": "PfyfPN15zPBQ"
      },
      "source": [
        "# 演習\n",
        "\n",
        "- 「input」を用いて相手の名前（ローマ字入力）を尋ね、得られた名前を変数xに格納するコードを書け。また実際に、自分の名前を変数xに格納せよ。\n"
      ]
    },
    {
      "cell_type": "code",
      "execution_count": null,
      "metadata": {
        "id": "in-RNsJXzFkS"
      },
      "outputs": [],
      "source": [
        "x = input(\"What's your name? \")"
      ]
    },
    {
      "cell_type": "code",
      "execution_count": null,
      "metadata": {
        "id": "lq3CApfVzmQr"
      },
      "outputs": [],
      "source": [
        "x"
      ]
    },
    {
      "cell_type": "markdown",
      "metadata": {
        "id": "RAZ5iuViz3C9"
      },
      "source": [
        "- xに含まれる文字数をカウントせよ"
      ]
    },
    {
      "cell_type": "code",
      "execution_count": null,
      "metadata": {
        "id": "iOzIK2kUzpeJ"
      },
      "outputs": [],
      "source": [
        "len(x)"
      ]
    },
    {
      "cell_type": "markdown",
      "metadata": {
        "id": "EdIIOpXFz8wI"
      },
      "source": [
        "- xに含まれる文字のうち、アルファベット順で最初の文字と最後の文字を調べよ"
      ]
    },
    {
      "cell_type": "code",
      "execution_count": null,
      "metadata": {
        "id": "8d3RBg-qz67t"
      },
      "outputs": [],
      "source": [
        "min(x)"
      ]
    },
    {
      "cell_type": "code",
      "execution_count": null,
      "metadata": {
        "id": "POLcFIZx0DRE"
      },
      "outputs": [],
      "source": [
        "max(x)"
      ]
    },
    {
      "cell_type": "markdown",
      "metadata": {
        "id": "E3ZMGecV0cVf"
      },
      "source": [
        "- x に含まれている文字を昇順に並び替えよ"
      ]
    },
    {
      "cell_type": "code",
      "execution_count": null,
      "metadata": {
        "id": "mJUX0-NJ0EO1"
      },
      "outputs": [],
      "source": [
        "sorted(x)"
      ]
    },
    {
      "cell_type": "markdown",
      "metadata": {
        "id": "vYQSYn8US_HB"
      },
      "source": [
        "# 関数の定義"
      ]
    },
    {
      "cell_type": "code",
      "execution_count": null,
      "metadata": {
        "id": "eFo8h3010JnR"
      },
      "outputs": [],
      "source": [
        "def f(a, b):\n",
        "    return a + b"
      ]
    },
    {
      "cell_type": "code",
      "execution_count": null,
      "metadata": {
        "id": "y7GAs8LsTFBO"
      },
      "outputs": [],
      "source": [
        "f(2, 3)"
      ]
    },
    {
      "cell_type": "code",
      "execution_count": null,
      "metadata": {
        "id": "oQcqXLy7TG4N"
      },
      "outputs": [],
      "source": [
        "f(-1, 1)"
      ]
    },
    {
      "cell_type": "code",
      "execution_count": null,
      "metadata": {
        "id": "HUkXaO4_TJEB"
      },
      "outputs": [],
      "source": [
        "f(a = 2, b = 3)"
      ]
    },
    {
      "cell_type": "code",
      "execution_count": null,
      "metadata": {
        "id": "VjorRNX2TR7g"
      },
      "outputs": [],
      "source": [
        "def g(a, b=10):\n",
        "    return a * b"
      ]
    },
    {
      "cell_type": "code",
      "execution_count": null,
      "metadata": {
        "id": "ordRYJE8TYaA"
      },
      "outputs": [],
      "source": [
        "g(2, 3)"
      ]
    },
    {
      "cell_type": "code",
      "execution_count": null,
      "metadata": {
        "id": "nAg0zAvvTaVV"
      },
      "outputs": [],
      "source": [
        "g(-1)"
      ]
    },
    {
      "cell_type": "markdown",
      "metadata": {
        "id": "Yx59Jdv3Tk1j"
      },
      "source": [
        "# 演習\n",
        "\n",
        "- 関数 $h(a, b, c)$ として、与えられた３辺の長さから三角形の面積を求める公式（ヘロンの公式）を定義せよ。定義した関数を用いて、３辺の長さが 3, 4, 5 である三角形の面積を求めよ。\n",
        "\n",
        "参考：ヘロンの公式\n",
        "\n",
        "$$S=\\sqrt{t(t-a)(t-b)(t-c)}$$\n",
        "\n",
        "$$t = \\frac{a + b + c}{2}$$\n"
      ]
    },
    {
      "cell_type": "code",
      "execution_count": null,
      "metadata": {
        "id": "UjpeH1r6TcCF"
      },
      "outputs": [],
      "source": [
        "def heron(a, b, c):\n",
        "    t = (a + b + c) / 2\n",
        "    s2 = t * (t - a) * (t - b) * (t - c)\n",
        "    return s2 ** 0.5"
      ]
    },
    {
      "cell_type": "code",
      "execution_count": null,
      "metadata": {
        "id": "BCzCWFC8U3wT"
      },
      "outputs": [],
      "source": [
        "heron(3, 4, 5)"
      ]
    },
    {
      "cell_type": "code",
      "execution_count": null,
      "metadata": {
        "id": "9DXSYPPyVMkm"
      },
      "outputs": [],
      "source": [
        "data = [[3, 4, 5], [4, 4, 4], [3, 3, 6], [2, 5, 5]]"
      ]
    },
    {
      "cell_type": "code",
      "execution_count": null,
      "metadata": {
        "id": "3OywbeaCgSOM"
      },
      "outputs": [],
      "source": [
        "Y = []\n",
        "for x in data:\n",
        "    Y.append(heron(x[0], x[1], x[2]))\n",
        "\n",
        "Y"
      ]
    },
    {
      "cell_type": "code",
      "execution_count": null,
      "metadata": {
        "id": "27oDGhdZhKTh"
      },
      "outputs": [],
      "source": [
        "Y = []\n",
        "for x1, x2, x3 in data:\n",
        "    Y.append(heron(x1, x2, x3))\n",
        "\n",
        "Y"
      ]
    },
    {
      "cell_type": "code",
      "execution_count": null,
      "metadata": {
        "id": "e67s-iFdij_u"
      },
      "outputs": [],
      "source": [
        "Y = [heron(x[0], x[1], x[2]) for x in data]\n",
        "Y"
      ]
    },
    {
      "cell_type": "code",
      "execution_count": null,
      "metadata": {
        "id": "nl_IOcCqiuXK"
      },
      "outputs": [],
      "source": [
        "Y = [heron(x1, x2, x3) for x1, x2, x3 in data]\n",
        "Y"
      ]
    },
    {
      "cell_type": "code",
      "execution_count": null,
      "metadata": {
        "id": "D7EOBDHJjA4v"
      },
      "outputs": [],
      "source": [
        "Y = list(map(heron, data))\n",
        "Y"
      ]
    },
    {
      "cell_type": "code",
      "execution_count": null,
      "metadata": {
        "id": "oLsxyvaRjIlN"
      },
      "outputs": [],
      "source": [
        "def heron2(x):\n",
        "    t = sum(x) / 2\n",
        "    s2 = t * (t - x[0]) * (t - x[1]) * (t - x[2])\n",
        "    return s2 ** 0.5"
      ]
    },
    {
      "cell_type": "code",
      "execution_count": null,
      "metadata": {
        "id": "BOCjMLC8kTp-"
      },
      "outputs": [],
      "source": [
        "Y = []\n",
        "for x in data:\n",
        "    Y.append(heron2(x))\n",
        "\n",
        "Y"
      ]
    },
    {
      "cell_type": "code",
      "execution_count": null,
      "metadata": {
        "id": "7SnoHCB6kbHm"
      },
      "outputs": [],
      "source": [
        "Y = [heron2(x) for x in data]\n",
        "Y"
      ]
    },
    {
      "cell_type": "code",
      "execution_count": null,
      "metadata": {
        "id": "MxQC_jtxjfIg"
      },
      "outputs": [],
      "source": [
        "Y = list(map(heron2, data))\n",
        "Y"
      ]
    },
    {
      "cell_type": "markdown",
      "metadata": {
        "id": "IePtcHdFlHTR"
      },
      "source": [
        "# ローカル変数"
      ]
    },
    {
      "cell_type": "code",
      "execution_count": null,
      "metadata": {
        "id": "uSz297aekNuO"
      },
      "outputs": [],
      "source": [
        "t"
      ]
    },
    {
      "cell_type": "code",
      "execution_count": null,
      "metadata": {
        "id": "Kfpbu-J2lJjK"
      },
      "outputs": [],
      "source": [
        "s2"
      ]
    },
    {
      "cell_type": "markdown",
      "metadata": {
        "id": "iDV9TuRTlm4t"
      },
      "source": [
        "# 無名関数"
      ]
    },
    {
      "cell_type": "code",
      "execution_count": null,
      "metadata": {
        "id": "XFA6NyhJlK0S"
      },
      "outputs": [],
      "source": [
        "def f(a, b, c):\n",
        "    return a**2 + b**2 + c**2"
      ]
    },
    {
      "cell_type": "code",
      "execution_count": null,
      "metadata": {
        "id": "PB_3ZjNjosyr"
      },
      "outputs": [],
      "source": [
        "f(2, 3, 1)"
      ]
    },
    {
      "cell_type": "code",
      "execution_count": null,
      "metadata": {
        "id": "KaDg-o9zo5vz"
      },
      "outputs": [],
      "source": [
        "f = lambda a, b, c: a**2 + b**2 + c**2"
      ]
    },
    {
      "cell_type": "code",
      "execution_count": null,
      "metadata": {
        "id": "6aJbaXASpCYV"
      },
      "outputs": [],
      "source": [
        "f(2, 3, 1)"
      ]
    },
    {
      "cell_type": "code",
      "execution_count": null,
      "metadata": {
        "id": "QgSv2G1nq04b"
      },
      "outputs": [],
      "source": [
        "(lambda a, b, c: a**2 + b**2 + c**2)(2, 3, 1)"
      ]
    },
    {
      "cell_type": "code",
      "execution_count": null,
      "metadata": {
        "id": "9A2F5TX7pDtO"
      },
      "outputs": [],
      "source": [
        "def g(x):\n",
        "    return x[0]**2 + x[1]**2 + x[2]**2"
      ]
    },
    {
      "cell_type": "code",
      "execution_count": null,
      "metadata": {
        "id": "XfEdyL-LqYvZ"
      },
      "outputs": [],
      "source": [
        "g([2, 3, 1])"
      ]
    },
    {
      "cell_type": "code",
      "execution_count": null,
      "metadata": {
        "id": "t8nS3xyxqaMG"
      },
      "outputs": [],
      "source": [
        "g = lambda x: x[0]**2 + x[1]**2 + x[2]**2"
      ]
    },
    {
      "cell_type": "code",
      "execution_count": null,
      "metadata": {
        "id": "LwjZ0CwGqewd"
      },
      "outputs": [],
      "source": [
        "g([2, 3, 1])"
      ]
    },
    {
      "cell_type": "code",
      "execution_count": null,
      "metadata": {
        "id": "ZrhqHBteqgWQ"
      },
      "outputs": [],
      "source": [
        "(lambda x: x[0]**2 + x[1]**2 + x[2]**2)([2, 3, 1])"
      ]
    },
    {
      "cell_type": "code",
      "execution_count": null,
      "metadata": {
        "id": "5PPdULt3q_ly"
      },
      "outputs": [],
      "source": [
        "Y = []\n",
        "for a, b, c in data:\n",
        "    Y.append(f(a, b, c))\n",
        "\n",
        "Y"
      ]
    },
    {
      "cell_type": "code",
      "execution_count": null,
      "metadata": {
        "id": "SbAsGuiEtRuX"
      },
      "outputs": [],
      "source": [
        "Y = []\n",
        "for a, b, c in data:\n",
        "    Y.append(g(a, b, c))\n",
        "\n",
        "Y"
      ]
    },
    {
      "cell_type": "code",
      "execution_count": null,
      "metadata": {
        "id": "DLa94M0Otkde"
      },
      "outputs": [],
      "source": [
        "Y = []\n",
        "for x in data:\n",
        "    Y.append(g(x))\n",
        "\n",
        "Y"
      ]
    },
    {
      "cell_type": "code",
      "execution_count": null,
      "metadata": {
        "id": "buLYhBCgtoP8"
      },
      "outputs": [],
      "source": [
        "Y = [f(a, b, c) for a, b, c in data]\n",
        "Y"
      ]
    },
    {
      "cell_type": "code",
      "execution_count": null,
      "metadata": {
        "id": "hW15d92nuIdk"
      },
      "outputs": [],
      "source": [
        "Y = [g(x) for x in data]\n",
        "Y"
      ]
    },
    {
      "cell_type": "code",
      "execution_count": null,
      "metadata": {
        "id": "8_cAJMgruipz"
      },
      "outputs": [],
      "source": [
        "Y = list(map(g, data))\n",
        "Y"
      ]
    },
    {
      "cell_type": "code",
      "execution_count": null,
      "metadata": {
        "id": "JJGPpiqUuqJL"
      },
      "outputs": [],
      "source": [
        "Y = list(map(lambda x: x[0]**2 + x[1]**2 + x[2]**2, data))\n",
        "Y"
      ]
    },
    {
      "cell_type": "markdown",
      "metadata": {
        "id": "UTxidsLXvwgK"
      },
      "source": [
        "# 演習\n",
        "\n",
        "- 無名関数と関数 map を利用して、リスト [1, 3, 5, 7, 9] の各要素を３乗することで得られるリストを求めよ。"
      ]
    },
    {
      "cell_type": "code",
      "execution_count": null,
      "metadata": {
        "id": "SRKjJoFbvd2Q"
      },
      "outputs": [],
      "source": [
        "list(map(lambda x: x**3, [1, 3, 5, 7, 9]))"
      ]
    },
    {
      "cell_type": "markdown",
      "metadata": {
        "id": "FmmIE04n5qV9"
      },
      "source": [
        "- 無名関数と関数 map を利用して、\n",
        "\n",
        "$$(x, y) = (\\frac{\\pi}{2}, \\pi), (\\pi, \\frac{3}{2}\\pi), (\\frac{3}{2}\\pi, 0)$$\n",
        "\n",
        "について $sin x + cos y$ を計算することで得られるリストを求めよ。"
      ]
    },
    {
      "cell_type": "code",
      "execution_count": null,
      "metadata": {
        "id": "XBIBg5VP5bFk"
      },
      "outputs": [],
      "source": [
        "import math\n",
        "\n",
        "data = [[math.pi, math.pi], [math.pi, 3/2*math.pi], [3/2*math.pi, 0]]"
      ]
    },
    {
      "cell_type": "code",
      "execution_count": null,
      "metadata": {
        "id": "D0nbyCOtiAYa"
      },
      "outputs": [],
      "source": [
        "list(map(lambda x: math.sin(x[0]) + math.cos(x[1]), data))"
      ]
    },
    {
      "cell_type": "markdown",
      "metadata": {
        "id": "e6FlopyvjABU"
      },
      "source": [
        "# 別ファイルに保存した関数の利用"
      ]
    },
    {
      "cell_type": "code",
      "execution_count": null,
      "metadata": {
        "id": "Pg8Lp_N6nHf4"
      },
      "outputs": [],
      "source": [
        "!wget https://raw.githubusercontent.com/maskot1977/tmd2023py/main/util/ex_A_1_4.py"
      ]
    },
    {
      "cell_type": "code",
      "execution_count": null,
      "metadata": {
        "id": "GyICVR3Pn124"
      },
      "outputs": [],
      "source": [
        "import ex_A_1_4 as example"
      ]
    },
    {
      "cell_type": "code",
      "execution_count": null,
      "metadata": {
        "id": "Gr7MOp8Tn6px"
      },
      "outputs": [],
      "source": [
        "example.qeq(1, 5, 6)"
      ]
    },
    {
      "cell_type": "markdown",
      "metadata": {
        "id": "iyG-v0vNxtLf"
      },
      "source": [
        "# 演習\n",
        "\n",
        "- ファイル ex_A_1_4 を利用し、 $y = 2 x^2 - x - 6$ に対する解を求めよ。"
      ]
    },
    {
      "cell_type": "code",
      "execution_count": null,
      "metadata": {
        "id": "TpMXJXL8oAJr"
      },
      "outputs": [],
      "source": [
        "example.qeq(2, -1, -6)"
      ]
    },
    {
      "cell_type": "markdown",
      "metadata": {
        "id": "XAFpYnueyQWl"
      },
      "source": [
        "- ファイル ex_A_1_4 を利用し、 $y = 2 x^2 + x + 3$ に対する解の出力を確認せよ。"
      ]
    },
    {
      "cell_type": "code",
      "execution_count": null,
      "metadata": {
        "id": "SIZZ-gVroLS7"
      },
      "outputs": [],
      "source": [
        "example.qeq(2, 1, 3)"
      ]
    },
    {
      "cell_type": "markdown",
      "metadata": {
        "id": "nfrNyAjkydHu"
      },
      "source": [
        "- ファイル ex_A_1_4 を修正し、 $y = 2 x^2 + x + 3$ に対する解を求めよ。"
      ]
    },
    {
      "cell_type": "code",
      "execution_count": null,
      "metadata": {
        "id": "wxCvvK3ktBJV"
      },
      "outputs": [],
      "source": [
        "!wget https://raw.githubusercontent.com/maskot1977/tmd2023py/main/util/ex_A_1_4b.py"
      ]
    },
    {
      "cell_type": "code",
      "execution_count": null,
      "metadata": {
        "id": "q1lJdH5QtjTS"
      },
      "outputs": [],
      "source": [
        "import ex_A_1_4b as example"
      ]
    },
    {
      "cell_type": "code",
      "execution_count": null,
      "metadata": {
        "id": "FjXGC1b4t4VE"
      },
      "outputs": [],
      "source": [
        "example.qeq(2, 1, 3)"
      ]
    }
  ],
  "metadata": {
    "colab": {
      "provenance": [],
      "include_colab_link": true
    },
    "kernelspec": {
      "display_name": "Python 3 (ipykernel)",
      "language": "python",
      "name": "python3"
    },
    "language_info": {
      "codemirror_mode": {
        "name": "ipython",
        "version": 3
      },
      "file_extension": ".py",
      "mimetype": "text/x-python",
      "name": "python",
      "nbconvert_exporter": "python",
      "pygments_lexer": "ipython3",
      "version": "3.10.6"
    }
  },
  "nbformat": 4,
  "nbformat_minor": 0
}